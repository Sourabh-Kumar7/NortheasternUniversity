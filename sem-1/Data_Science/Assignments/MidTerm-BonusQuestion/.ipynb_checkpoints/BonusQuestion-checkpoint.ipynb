{
 "cells": [
  {
   "cell_type": "markdown",
   "id": "ae5acc19-3e4b-46d9-a865-e1cbbc56d2d6",
   "metadata": {},
   "source": [
    "<center>\n",
    "<img src =data/images/extra-extra-credit.gif width = 500 />\n",
    "</center>"
   ]
  },
  {
   "cell_type": "code",
   "execution_count": 35,
   "id": "55962a2f-5cbd-4610-a1b2-86f185731214",
   "metadata": {
    "tags": []
   },
   "outputs": [],
   "source": [
    "import numpy as np\n",
    "from tqdm import tqdm\n",
    "import matplotlib.pyplot as plt"
   ]
  },
  {
   "cell_type": "code",
   "execution_count": 36,
   "id": "4fce51c3-06ec-42fe-9e52-bc78874c1b6a",
   "metadata": {
    "tags": []
   },
   "outputs": [],
   "source": [
    "def sim_multinomial_exactly_q(m, n, ndrivers=20, nshows=30, q=1):\n",
    "    yes = 0\n",
    "    no = 0\n",
    "\n",
    "    # run the simulation n times\n",
    "    for i in range(n):\n",
    "    # for i in tqdm(range(n)):\n",
    "    \n",
    "        # Initialize the shows list\n",
    "        shows = [0] * nshows\n",
    "\n",
    "        # # Each driver visits q unique shows - First Way : Long \n",
    "        # for _ in range(ndrivers):\n",
    "        #     unique_visits = np.random.choice(nshows, q, replace=False)\n",
    "        #     for visit in unique_visits:\n",
    "        #         shows[visit] += 1\n",
    "                \n",
    "        # Each driver visits q unique shows - First Way : Short \n",
    "        for visit in np.concatenate([np.random.choice(nshows, q, replace=False) for _ in range(ndrivers)]):\n",
    "            shows[visit] += 1\n",
    "            \n",
    "#         # Each driver visits q unique shows - Second Way : Long\n",
    "#         for _ in range(ndrivers):\n",
    "#             all_shows = np.arange(nshows)\n",
    "#             np.random.shuffle(all_shows)\n",
    "#             unique_visits = all_shows[:q]\n",
    "#             for visit in unique_visits:\n",
    "#                 shows[visit] += 1\n",
    "                \n",
    "#         # Each driver visits q unique shows - Second Way : Short \n",
    "#         for visit in np.concatenate([np.random.permutation(nshows)[:q] for _ in range(ndrivers)]):\n",
    "#             shows[visit] += 1\n",
    "\n",
    "        # Which show do I go to?\n",
    "        me = np.random.randint(0, nshows, m)\n",
    "\n",
    "        # Is there a driver there?\n",
    "        meet_a_driver = any(shows[j] > 0 for j in me)\n",
    "        if meet_a_driver:\n",
    "            yes += 1\n",
    "        else:\n",
    "            no += 1\n",
    "\n",
    "    return yes / n\n"
   ]
  },
  {
   "cell_type": "code",
   "execution_count": 26,
   "id": "e2b28d83-779e-4c9a-97df-a9674634874c",
   "metadata": {
    "tags": []
   },
   "outputs": [],
   "source": [
    "# sim_multinomial_exactly_q(1, 100000, ndrivers = 20, nshows = 30, q=2)"
   ]
  },
  {
   "cell_type": "code",
   "execution_count": 37,
   "id": "70aa1303-9da5-4826-837a-321428895ca7",
   "metadata": {
    "tags": []
   },
   "outputs": [
    {
     "name": "stderr",
     "output_type": "stream",
     "text": [
      "100%|██████████████████████████████████████████████████████| 30/30 [00:28<00:00,  1.05it/s]\n"
     ]
    },
    {
     "name": "stdout",
     "output_type": "stream",
     "text": [
      "[0.4914, 0.7395, 0.8599, 0.933, 0.964, 0.9807, 0.9877, 0.994, 0.9962, 0.9972, 0.9984, 0.9992, 0.9995, 1.0, 1.0, 0.9998, 1.0, 0.9999, 1.0, 1.0, 1.0, 1.0, 1.0, 1.0, 1.0, 1.0, 1.0, 1.0, 1.0, 1.0]\n"
     ]
    },
    {
     "name": "stderr",
     "output_type": "stream",
     "text": [
      "100%|██████████████████████████████████████████████████████| 30/30 [00:23<00:00,  1.26it/s]\n"
     ]
    },
    {
     "name": "stdout",
     "output_type": "stream",
     "text": [
      "[0.7454, 0.9312, 0.9833, 0.9946, 0.9977, 0.9998, 0.9999, 0.9999, 0.9999, 1.0, 1.0, 1.0, 1.0, 1.0, 1.0, 1.0, 1.0, 1.0, 1.0, 1.0, 1.0, 1.0, 1.0, 1.0, 1.0, 1.0, 1.0, 1.0, 1.0, 1.0]\n"
     ]
    },
    {
     "name": "stderr",
     "output_type": "stream",
     "text": [
      "100%|██████████████████████████████████████████████████████| 30/30 [00:24<00:00,  1.21it/s]\n"
     ]
    },
    {
     "name": "stdout",
     "output_type": "stream",
     "text": [
      "[0.9733, 0.9983, 0.9999, 1.0, 1.0, 1.0, 1.0, 1.0, 1.0, 1.0, 1.0, 1.0, 1.0, 1.0, 1.0, 1.0, 1.0, 1.0, 1.0, 1.0, 1.0, 1.0, 1.0, 1.0, 1.0, 1.0, 1.0, 1.0, 1.0, 1.0]\n"
     ]
    },
    {
     "name": "stderr",
     "output_type": "stream",
     "text": [
      "100%|██████████████████████████████████████████████████████| 30/30 [00:25<00:00,  1.15it/s]\n"
     ]
    },
    {
     "name": "stdout",
     "output_type": "stream",
     "text": [
      "[0.9997, 1.0, 1.0, 1.0, 1.0, 1.0, 1.0, 1.0, 1.0, 1.0, 1.0, 1.0, 1.0, 1.0, 1.0, 1.0, 1.0, 1.0, 1.0, 1.0, 1.0, 1.0, 1.0, 1.0, 1.0, 1.0, 1.0, 1.0, 1.0, 1.0]\n"
     ]
    },
    {
     "name": "stderr",
     "output_type": "stream",
     "text": [
      "100%|██████████████████████████████████████████████████████| 30/30 [00:28<00:00,  1.05it/s]\n"
     ]
    },
    {
     "name": "stdout",
     "output_type": "stream",
     "text": [
      "[1.0, 1.0, 1.0, 1.0, 1.0, 1.0, 1.0, 1.0, 1.0, 1.0, 1.0, 1.0, 1.0, 1.0, 1.0, 1.0, 1.0, 1.0, 1.0, 1.0, 1.0, 1.0, 1.0, 1.0, 1.0, 1.0, 1.0, 1.0, 1.0, 1.0]\n"
     ]
    },
    {
     "name": "stderr",
     "output_type": "stream",
     "text": [
      "100%|██████████████████████████████████████████████████████| 30/30 [00:31<00:00,  1.04s/it]"
     ]
    },
    {
     "name": "stdout",
     "output_type": "stream",
     "text": [
      "[1.0, 1.0, 1.0, 1.0, 1.0, 1.0, 1.0, 1.0, 1.0, 1.0, 1.0, 1.0, 1.0, 1.0, 1.0, 1.0, 1.0, 1.0, 1.0, 1.0, 1.0, 1.0, 1.0, 1.0, 1.0, 1.0, 1.0, 1.0, 1.0, 1.0]\n"
     ]
    },
    {
     "name": "stderr",
     "output_type": "stream",
     "text": [
      "\n"
     ]
    },
    {
     "data": {
      "image/png": "[encoded data removed]",
      "text/plain": [
       "<Figure size 640x480 with 1 Axes>"
      ]
     },
     "metadata": {},
     "output_type": "display_data"
    }
   ],
   "source": [
    "# Simulation setup\n",
    "exactly_q_shows = [1, 2, 5, 10, 20, 30]\n",
    "\n",
    "for q in exactly_q_shows:\n",
    "    probs_q = []\n",
    "    for i in tqdm(range(1, 31)):\n",
    "        probs_q.append(sim_multinomial_exactly_q(i, 10000, ndrivers = 20, nshows = 30, q=q))\n",
    "    print(probs_q)\n",
    "    plt.plot(probs_q, label=f'q={q}')\n",
    "\n",
    "# Adding labels and legend\n",
    "plt.xlabel('Number of Shows Attended')\n",
    "plt.ylabel('Probability of Meeting a Driver')\n",
    "plt.title('Probability of Meeting a Driver vs. Number of Shows Attended')\n",
    "plt.legend()\n",
    "plt.show()"
   ]
  },
  {
   "cell_type": "markdown",
   "id": "bd8ed45f-a4e9-4680-a4b8-b0f8d6e3801f",
   "metadata": {},
   "source": [
    "<center>\n",
    "<img src =data/images/cat-laptop.gif width = 500 />\n",
    "</center>"
   ]
  },
  {
   "cell_type": "markdown",
   "id": "bcf955f7-5440-4b42-9d90-76a8f7ca4e2c",
   "metadata": {},
   "source": [
    "## `tqdm`: Python Progress Bar\n",
    "\n",
    "`Tqdm` is a Python library that provides a fast and extensible progress bar for loops and iterable processes. Its name is derived from the Arabic word \"taqaddum\" (تقدّم) which means progress. `tqdm` is celebrated for its efficiency and ease of integration.\n",
    "\n",
    "### Open-Source Project\n",
    "\n",
    "`Tqdm` is an open-source project developed and maintained by a community of contributors. `Casper da Costa-Luis` is credited as the original creator of `tqdm`.\n",
    "\n",
    "#### Repository Link\n",
    "\n",
    "You can explore more about `tqdm`, access its source code, and contribute to the project at its GitHub repository: [tqdm GitHub Repo](https://github.com/tqdm/tqdm)\n"
   ]
  },
  {
   "cell_type": "markdown",
   "id": "55329c1a-a7da-4753-8e94-a5de0ed067db",
   "metadata": {
    "tags": []
   },
   "source": [
    "<center>\n",
    "<img src =data/images/anime-shy.gif width = 500 />\n",
    "</center>"
   ]
  },
  {
   "cell_type": "code",
   "execution_count": null,
   "id": "9c11f9a8-b574-4233-8117-b2db2f18b5e6",
   "metadata": {},
   "outputs": [],
   "source": []
  }
 ],
 "metadata": {
  "kernelspec": {
   "display_name": "Python 3 (ipykernel)",
   "language": "python",
   "name": "python3"
  },
  "language_info": {
   "codemirror_mode": {
    "name": "ipython",
    "version": 3
   },
   "file_extension": ".py",
   "mimetype": "text/x-python",
   "name": "python",
   "nbconvert_exporter": "python",
   "pygments_lexer": "ipython3",
   "version": "3.11.4"
  }
 },
 "nbformat": 4,
 "nbformat_minor": 5
}
