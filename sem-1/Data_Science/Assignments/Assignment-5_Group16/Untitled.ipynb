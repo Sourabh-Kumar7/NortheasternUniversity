{
 "cells": [
  {
   "cell_type": "markdown",
   "id": "c8d0984a-4128-497c-b22e-77f12339d700",
   "metadata": {},
   "source": [
    "### Mid Term - Take Home\n",
    "In your F1 homework, I told you Max Verstappen was committed by contract with Red Bull to going to one designer's fashion show, and *one only*. There are 30 fashion shows at the SPRING 2024 READY-TO-WEAR FASHION SHOW. If you commit to going to *one and just one* designer's fashion show as well, the probability to meet Max is the probability that \"*Max and I have the same birthday if there are 30 days in the year*\": 1/30.\n",
    "\n",
    "If each one of the F1 drivers for the current season (listed on the F1 web site) also commits to going to *one and one only* of these fashion shows, the probability you will meet a F1 driver if you also go to *one and only one* of these shows is exactly as if each driver has 30 days to have a \"*birthday*\" and there are $n$ \"*drivers*\" in class and I want to find the probability that I share the same birthday with a driver: We need to be careful to remove \"*intersections*\" when computing the cumulative probability for all drivers (since they could go the same fashion show: that is an intersection). The answer is $n/30 - C_{n-1}^{n-1}/30^{n-1} - C^{n-1}_{n-2}/30^{n-2} - .... - C^{n-1}_{n - (n - 2)}/30^{n - (n - 2)}$ where $n$ is the number of F1 drivers.\n",
    "\n",
    ">**Note**: $C_{n}^{k}$ is something called the choose function. You pronounce that thing $n$ *choose* $k$. It represents how many ways there are to choose $k$ items from a set of a total of $n$ items and is equal to $\\frac{n!}{k!(n-k)!}$.\n",
    "\n",
    "Now we are going to make the problem more interesting.\n",
    "\n",
    "Let's say there are $n=20$ F1 drivers and 30 fashion shows.\n",
    "\n",
    "Part A (10 points): Fashion shows are expensive. Each F1 driver goes to one and only one fashion show. You think F1 drivers are the coolest people on the planet and you really want to meet one. So you decide to plot the probability mass function (pmf) for meeting one (any driver will do) as a function of the number of shows you attend, from one show, to all shows. Then you can decide what the right tradefoff is between luck and gambling your money away by buying fashion show tickets. Plot this graph F.\n",
    "\n",
    "Part B (10 points): How does the graph change if instead of going to one and only one fashion show, drivers go to *exactly two*, *exactly three*, ...., *exactly 30*? if $m$ is the number of distinct shows that each and every F1 driver goes to, plot the graph F for $m=2$, $m=5$, $m=10$, $m=20$, $m=30$.\n",
    "\n",
    "Part C (10 points): How does the graph change if instead of going to one and only one fashion show, drivers go to *up to one*, *up to two*, *up to three*, ...., *up to 30* fashion shows? if $m$ is the number of distinct shows that a F1 driver goes to, then the use case *this driver goes to up to 10 fashion shows* means $m \\le 10$. In other words, that driver can decide to go to no fashion shows at all, 1 fashion show, 2 fashion shows, ... up to 10 fashion shows with uniform probability. Plot the graph F for $m=1$, $m=2$, $m=5$, $m=10$, $m=20$, $m=30$.\n",
    "\n",
    "Hint: Remember what we said about all possible ways to solve a data science problem."
   ]
  },
  {
   "cell_type": "code",
   "execution_count": 3,
   "id": "66224747-0087-4d27-a619-3c7893ff5130",
   "metadata": {
    "tags": []
   },
   "outputs": [],
   "source": [
    "class ProbDist(dict):\n",
    "    \"\"\"A Probability Distribution; an {outcome: probability} mapping.\"\"\"\n",
    "    def __init__(self, mapping=(), **kwargs):\n",
    "        self.update(mapping, **kwargs)\n",
    "        # Make probabilities sum to 1.0; assert no negative probabilities\n",
    "        total = sum(self.values())\n",
    "        for outcome in self:\n",
    "            self[outcome] = self[outcome] / total\n",
    "            assert self[outcome] >= 0"
   ]
  },
  {
   "cell_type": "code",
   "execution_count": 4,
   "id": "7355ac21-d0e0-49a6-afb7-d90eb1257f70",
   "metadata": {
    "tags": []
   },
   "outputs": [],
   "source": [
    "from fractions import Fraction\n",
    "\n",
    "def p(event, space): \n",
    "    \"\"\"The probability of an event, given a sample space of equiprobable outcomes. \n",
    "    event: a collection of outcomes, or a predicate that is true of outcomes in the event. \n",
    "    space: a set of outcomes or a probability distribution of {outcome: frequency} pairs.\"\"\"\n",
    "    if is_predicate(event):\n",
    "        event = such_that(event, space)\n",
    "        \n",
    "    if isinstance(space, ProbDist):\n",
    "        return sum(space[o] for o in space if o in event)\n",
    "    else:\n",
    "        return Fraction(len(event & space), len(space))\n",
    "\n",
    "is_predicate = callable\n",
    "\n",
    "def such_that(predicate, space): \n",
    "    \"\"\"The outcomes in the sample pace for which the predicate is true.\n",
    "    If space is a set, return a subset {outcome,...} with outcomes where predicate(element) is true;\n",
    "    if space is a ProbDist, return a ProbDist {outcome: frequency,...} with outcomes where predicate(element) is true.\"\"\"\n",
    "    if isinstance(space, ProbDist):\n",
    "        return ProbDist({o:space[o] for o in space if predicate(o)})\n",
    "    else:\n",
    "        return {o for o in space if predicate(o)}"
   ]
  },
  {
   "cell_type": "code",
   "execution_count": 5,
   "id": "54406d57-da99-4987-a590-73fb3ecdfbb4",
   "metadata": {
    "tags": []
   },
   "outputs": [],
   "source": [
    "def joint(A, B, sep=' '):\n",
    "    \"\"\"The joint distribution of two independent probability distributions. \n",
    "    Result is all entries of the form {a+sep+b: P(a)*P(b)}\"\"\"\n",
    "    return ProbDist({a + sep + b: A[a] * B[b] \n",
    "                        for a in A \n",
    "                        for b in B})"
   ]
  },
  {
   "cell_type": "code",
   "execution_count": 6,
   "id": "b1b48599-1e78-4d8f-8cd8-6e57d10faf05",
   "metadata": {
    "tags": []
   },
   "outputs": [],
   "source": [
    "def cross(A, B):\n",
    "    \"\"\"The set of ways of concatenating one item from collection A with one from B.\"\"\"\n",
    "    return {a +\" \" + str(b): 1 for a in A for b in B}"
   ]
  },
  {
   "cell_type": "code",
   "execution_count": 7,
   "id": "38ff290c-f4ae-4c6a-88e5-724dec808f5f",
   "metadata": {
    "tags": []
   },
   "outputs": [],
   "source": [
    "total_designer_shows = 30 #took data from https://www.vogue.com/fashion-shows\n",
    "total_drivers = 20"
   ]
  },
  {
   "cell_type": "code",
   "execution_count": 8,
   "id": "970912c7-7039-407d-8206-06feeb4a21d8",
   "metadata": {
    "tags": []
   },
   "outputs": [],
   "source": []
  },
  {
   "cell_type": "code",
   "execution_count": 9,
   "id": "9f1ed0e6-3b20-47fb-b73c-4a96f92a9f97",
   "metadata": {
    "tags": []
   },
   "outputs": [],
   "source": [
    "designer_shows = [i for i in range(1, total_designer_shows+1)]\n",
    "# designer_shows"
   ]
  },
  {
   "cell_type": "code",
   "execution_count": 10,
   "id": "23b551f0-1efb-4d52-878c-2e1854b1d08a",
   "metadata": {
    "tags": []
   },
   "outputs": [],
   "source": [
    "my_poss = cross('Z', designer_shows)\n",
    "# max_poss = cross('M', designer_shows)\n",
    "# len(my_poss), len(max_poss)\n"
   ]
  },
  {
   "cell_type": "code",
   "execution_count": null,
   "id": "2d1e21aa-da55-476a-89bb-09599ecf6a9e",
   "metadata": {
    "tags": []
   },
   "outputs": [],
   "source": [
    "for i in range(total_drivers):\n",
    "    x_poss = cross(chr(ord('A') + i), designer_shows)\n",
    "    my_poss = joint(ProbDist(my_poss), ProbDist(x_poss))\n",
    "\n",
    "len(my_poss)"
   ]
  },
  {
   "cell_type": "code",
   "execution_count": 95,
   "id": "3c05e061-6ee3-4433-8bbb-bc6134d76ffa",
   "metadata": {
    "tags": []
   },
   "outputs": [],
   "source": [
    "# all_poss = joint(ProbDist(my_poss), ProbDist(max_poss))\n",
    "# len(all_poss)"
   ]
  },
  {
   "cell_type": "code",
   "execution_count": 96,
   "id": "a13c7301-064e-4305-b15d-263919612004",
   "metadata": {
    "tags": []
   },
   "outputs": [],
   "source": [
    "# my_poss\n",
    "# Z 1 A 1 B 1 C 1"
   ]
  },
  {
   "cell_type": "code",
   "execution_count": null,
   "id": "4a72bf2c-96f3-4564-b415-0ef85bd8b3a2",
   "metadata": {
    "tags": []
   },
   "outputs": [],
   "source": [
    "def i_meet_any_driver(outcome):\n",
    "    words = outcome.split()\n",
    "    x = words[1]\n",
    "    # print(x)\n",
    "    word_len = len(words)\n",
    "    for i in range(1, word_len, 2):\n",
    "        # print(i)\n",
    "        if words[i] != x:\n",
    "            return False\n",
    "        \n",
    "    return True"
   ]
  },
  {
   "cell_type": "code",
   "execution_count": null,
   "id": "b0cdfc0e-0541-40cb-be0a-8ecef13eb0ce",
   "metadata": {
    "tags": []
   },
   "outputs": [],
   "source": [
    "p(i_meet_any_driver, my_poss)"
   ]
  },
  {
   "cell_type": "code",
   "execution_count": 78,
   "id": "6c1e5ef9-570e-420b-bf40-499051e74b91",
   "metadata": {
    "tags": []
   },
   "outputs": [],
   "source": [
    "s = \"Z 1 A 1 B 1 C 2\""
   ]
  },
  {
   "cell_type": "code",
   "execution_count": 79,
   "id": "37852b84-eb27-45f1-8bc2-32866843d0de",
   "metadata": {
    "tags": []
   },
   "outputs": [
    {
     "data": {
      "text/plain": [
       "['Z', '1', 'A', '1', 'B', '1', 'C', '2']"
      ]
     },
     "execution_count": 79,
     "metadata": {},
     "output_type": "execute_result"
    }
   ],
   "source": [
    "s.split()"
   ]
  },
  {
   "cell_type": "code",
   "execution_count": 80,
   "id": "7e5165a4-9d01-48ac-ab79-0f4cbd7c23d5",
   "metadata": {
    "tags": []
   },
   "outputs": [
    {
     "name": "stdout",
     "output_type": "stream",
     "text": [
      "1\n",
      "1\n",
      "3\n",
      "5\n",
      "7\n"
     ]
    },
    {
     "data": {
      "text/plain": [
       "False"
      ]
     },
     "execution_count": 80,
     "metadata": {},
     "output_type": "execute_result"
    }
   ],
   "source": [
    "i_meet_any_driver(s)"
   ]
  },
  {
   "cell_type": "code",
   "execution_count": null,
   "id": "2f0754c3-f16e-40c6-beab-5b2b95951ebd",
   "metadata": {},
   "outputs": [],
   "source": [
    "import matplotlib.pyplot as plt\n",
    "import math\n",
    "\n",
    "\n",
    "# # Function to calculate the PMF for a given value of m\n",
    "# def calculate_pmf(total_drivers, total_shows, m):\n",
    "#     probabilities = []\n",
    "#     for k in num_shows_attended:\n",
    "#         prob_not_meeting = ((total_shows - 1) / total_shows) ** (total_drivers * m)        \n",
    "#         prob_meeting_at_least_one = 1 - prob_not_meeting ** k\n",
    "        \n",
    "#         probabilities.append(prob_meeting_at_least_one)\n",
    "#     return probabilities\n",
    "\n",
    "# Function to calculate the PMF for a given value of m\n",
    "def calculate_pmf(total_drivers, total_shows, m):\n",
    "    probabilities = []\n",
    "    for k in num_shows_attended:\n",
    "        prob_not_meeting = i_meet_driver_upto_m(total_drivers, total_shows, m) ** k   \n",
    "        prob_meeting_at_least_one = 1 - prob_not_meeting\n",
    "        \n",
    "        probabilities.append(prob_meeting_at_least_one)\n",
    "    # print(probabilities)\n",
    "    return probabilities\n",
    "\n",
    "# Initialize lists to store probabilities and the number of shows attended\n",
    "num_shows_attended = list(range(1, total_shows + 1))\n",
    "\n",
    "# Values of m to consider\n",
    "upto_m_shows = [0, 1, 2, 5, 10, 20, 30]\n",
    "\n",
    "# Plot the PMFs for each value of m\n",
    "for m in upto_m_shows:\n",
    "    probabilities = calculate_pmf(total_drivers, total_shows, m)\n",
    "\n",
    "    plt.plot(num_shows_attended, probabilities, marker='o', label=f'm={m}')\n",
    "\n",
    "plt.title('PMF for Meeting at Least One F1 Driver (Up to m Shows)')\n",
    "plt.xlabel('Number of Fashion Shows Attended')\n",
    "plt.ylabel('Probability')\n",
    "plt.grid(True)\n",
    "plt.legend()\n",
    "plt.show()"
   ]
  },
  {
   "cell_type": "code",
   "execution_count": null,
   "id": "4d50c139-ff1b-438f-b94e-775a19fa31cf",
   "metadata": {
    "tags": []
   },
   "outputs": [],
   "source": [
    "import matplotlib.pyplot as plt\n",
    "import math\n",
    "\n",
    "# Function to calculate the PMF for a given value of m\n",
    "def calculate_pmf(total_drivers, total_shows, m):\n",
    "    probabilities = []\n",
    "    for k in range(1, total_shows + 1):\n",
    "        prob_not_meeting = ((total_shows - 1) / total_shows) ** (total_drivers * m)        \n",
    "        prob_meeting_at_least_one = 1 - prob_not_meeting ** k\n",
    "        \n",
    "        probabilities.append(prob_meeting_at_least_one)\n",
    "    return probabilities\n",
    "\n",
    "# Initialize lists to store probabilities and the number of shows attended\n",
    "num_shows_attended = list(range(1, total_shows + 1))\n",
    "\n",
    "# Plot the PMFs for each value of m\n",
    "for m in range(2, 31, 2):\n",
    "    probabilities = calculate_pmf(total_drivers, total_shows, m)\n",
    "\n",
    "    plt.plot(num_shows_attended, probabilities, marker='o', label=f'm={m}')\n",
    "\n",
    "plt.title('PMF for Meeting at Least One F1 Driver (Up to m Shows)')\n",
    "plt.xlabel('Number of Fashion Shows Attended')\n",
    "plt.ylabel('Probability')\n",
    "plt.grid(True)\n",
    "plt.legend()\n",
    "plt.show()"
   ]
  },
  {
   "cell_type": "code",
   "execution_count": null,
   "id": "889ffcae-dc36-4ea2-85e9-20e46222e0b0",
   "metadata": {},
   "outputs": [],
   "source": []
  }
 ],
 "metadata": {
  "kernelspec": {
   "display_name": "Python 3 (ipykernel)",
   "language": "python",
   "name": "python3"
  },
  "language_info": {
   "codemirror_mode": {
    "name": "ipython",
    "version": 3
   },
   "file_extension": ".py",
   "mimetype": "text/x-python",
   "name": "python",
   "nbconvert_exporter": "python",
   "pygments_lexer": "ipython3",
   "version": "3.11.4"
  }
 },
 "nbformat": 4,
 "nbformat_minor": 5
}
