{
 "cells": [
  {
   "cell_type": "markdown",
   "id": "4acc0329-7262-42b1-9b4b-e4b59552f9bb",
   "metadata": {
    "tags": []
   },
   "source": [
    "<div align=\"center\">\n",
    "  <h1 style=\"text-align: center;\">F1</h1>\n",
    "</div>\n",
    "\n",
    "<center>\n",
    "    <img src=\"images/qatar-f1-23.png\" width=1000 />\n",
    "</center>\n",
    "\n",
    "# Question 1:\n",
    "\n",
    "Given the driver standings, we need to find:\n",
    "\n",
    "1. **The Probability Distribution for each F1 driver to win the Qatar Grand Prix.**\n",
    "\n",
    "2. **The Probability Distribution for each F1 driver to win both the Qatar and the US Grand Prix.**\n",
    "\n",
    "3. **The probability for Red Bull to win both races.**\n",
    "\n",
    "4. **The probability for Red Bull to win at least one race.**\n",
    "\n",
    "# Question 2:\n",
    "\n",
    "We need to determine:\n",
    "\n",
    "1. **If Red Bull wins the first race, what is the probability that Red Bull wins the next one?**\n",
    "\n",
    "2. **If Red Bull wins at least one of these two races, what is the probability Red Bull wins both races?**\n",
    "\n",
    "We also need to repeat these calculations for Ferrari, Mercedes, and Alfa Romeo.\n",
    "\n",
    "# Question 3:\n",
    "\n",
    "##### Given\n",
    "\n",
    "There are 5 possible weather conditions, the probability of any particular weather event (like rain) on a race day is $\\frac{1}{5}$. Now, based on the standings, we can calculate the probability of Red Bull winning a race.\n",
    "    \n",
    "we need to find:\n",
    "\n",
    "1. **Red Bull wins one of these two races on a rainy day. What is the probability Red Bull wins both races, assuming races can be held on either rainy, sunny, cloudy, snowy or foggy days?**\n",
    "\n",
    "# Question 4:\n",
    "\n",
    "we need to determine:\n",
    "\n",
    "1. **Max Verstappen's Fashion Show Attendance**\n",
    "- Max Verstappen is committed to attending one designer's fashion show at the SPRING 2024 READY-TO-WEAR FASHION SHOW.\n",
    "- What is the probability that you will meet Max Verstappen if you commit to attending one and only one designer's fashion show from the list of designers provided [here](https://www.vogue.com/fashion-shows)?\n",
    "\n",
    "2. **F1 Drivers' Fashion Show Attendance**\n",
    "- All F1 drivers for the current season have committed to attending their sole favorite designer's fashion show at the SPRING 2024 READY-TO-WEAR FASHION SHOW.\n",
    "- What is the probability that you will meet an F1 driver if you commit to attending one and only one designer's fashion show from the list of designers provided [here](https://www.vogue.com/fashion-shows)?"
   ]
  },
  {
   "cell_type": "markdown",
   "id": "344184e2-9532-43e4-81fb-195b52c21205",
   "metadata": {},
   "source": [
    "# Solution Below:"
   ]
  },
  {
   "cell_type": "code",
   "execution_count": 8,
   "id": "e72b1758-c303-449a-a4e4-f483b5be2c13",
   "metadata": {
    "tags": []
   },
   "outputs": [],
   "source": [
    "class ProbDist(dict):\n",
    "    \"\"\"A Probability Distribution; an {outcome: probability} mapping.\"\"\"\n",
    "    def __init__(self, mapping=(), **kwargs):\n",
    "        self.update(mapping, **kwargs)\n",
    "        # Make probabilities sum to 1.0; assert no negative probabilities\n",
    "        total = sum(self.values())\n",
    "        for outcome in self:\n",
    "            self[outcome] = self[outcome] / total\n",
    "            assert self[outcome] >= 0"
   ]
  },
  {
   "cell_type": "code",
   "execution_count": 11,
   "id": "011f8def-ff90-44d7-ac5d-7204f6d1407e",
   "metadata": {
    "tags": []
   },
   "outputs": [],
   "source": [
    "from fractions import Fraction\n",
    "\n",
    "def p(event, space): \n",
    "    \"\"\"The probability of an event, given a sample space of equiprobable outcomes. \n",
    "    event: a collection of outcomes, or a predicate that is true of outcomes in the event. \n",
    "    space: a set of outcomes or a probability distribution of {outcome: frequency} pairs.\"\"\"\n",
    "    if is_predicate(event):\n",
    "        event = such_that(event, space)\n",
    "        \n",
    "    if isinstance(space, ProbDist):\n",
    "        return sum(space[o] for o in space if o in event)\n",
    "    else:\n",
    "        return Fraction(len(event & space), len(space))\n",
    "\n",
    "is_predicate = callable\n",
    "\n",
    "def such_that(predicate, space): \n",
    "    \"\"\"The outcomes in the sample pace for which the predicate is true.\n",
    "    If space is a set, return a subset {outcome,...} with outcomes where predicate(element) is true;\n",
    "    if space is a ProbDist, return a ProbDist {outcome: frequency,...} with outcomes where predicate(element) is true.\"\"\"\n",
    "    if isinstance(space, ProbDist):\n",
    "        return ProbDist({o:space[o] for o in space if predicate(o)})\n",
    "    else:\n",
    "        return {o for o in space if predicate(o)}"
   ]
  },
  {
   "cell_type": "code",
   "execution_count": 12,
   "id": "6c167e38-f633-47ec-b7ff-54ae3f829a74",
   "metadata": {
    "tags": []
   },
   "outputs": [],
   "source": [
    "def joint(A, B, sep=' '):\n",
    "    \"\"\"The joint distribution of two independent probability distributions. \n",
    "    Result is all entries of the form {a+sep+b: P(a)*P(b)}\"\"\"\n",
    "    return ProbDist({a + sep + b: A[a] * B[b] \n",
    "                        for a in A \n",
    "                        for b in B})"
   ]
  },
  {
   "cell_type": "markdown",
   "id": "d676bb14-7ca6-4041-ba82-85c8ca7ab9f2",
   "metadata": {},
   "source": [
    "# Solution 1:"
   ]
  },
  {
   "cell_type": "code",
   "execution_count": 13,
   "id": "4021df5f-f0f8-46a0-87c4-58ca240772b5",
   "metadata": {
    "tags": []
   },
   "outputs": [
    {
     "data": {
      "text/plain": [
       "20"
      ]
     },
     "execution_count": 13,
     "metadata": {},
     "output_type": "execute_result"
    }
   ],
   "source": [
    "# Data from https://www.formula1.com/en/results.html/2023/drivers.html \n",
    "QGP = {\n",
    "    'MV': 400, #Max Verstappen\n",
    "    'SP': 223, #Sergio Perez\n",
    "    'LH': 190, #Lewis Hamilton\n",
    "    'FA': 174, #Fernando Alonso\n",
    "    'CS': 150, #Carlos Sainz\n",
    "    'CL': 135, #Charles Leclerc\n",
    "    'LN': 115, #Lando Norris\n",
    "    'GR': 115, #George Russell\n",
    "    'OP': 57,  #Oscar Piastri\n",
    "    'LS': 47,  #Lance Stroll\n",
    "    'PG': 46,  #Pierre Gasly\n",
    "    'EO': 38,  #Esteban Ocon\n",
    "    'AA': 21,  #Alexander Albon\n",
    "    'NH': 9,   #Nico Hulkenberg\n",
    "    'VB': 6,   #Valtteri Bottas\n",
    "    'ZG': 4,   #Zhou Guanyu\n",
    "    'YT': 3,   #Yuki Tsunoda\n",
    "    'KM': 3,   #Kevin Magnussen\n",
    "    'LL': 2,   #Liam Lawson\n",
    "    'LT': 0,   #Logan Sargeant\n",
    "}\n",
    "\n",
    "# QGP\n",
    "len(QGP)"
   ]
  },
  {
   "cell_type": "markdown",
   "id": "e52ef5e7-61ff-4378-b170-82a41097c020",
   "metadata": {},
   "source": [
    "### Solution 1.1"
   ]
  },
  {
   "cell_type": "code",
   "execution_count": 14,
   "id": "f6203521-da79-4b37-b9d3-65e7641ca804",
   "metadata": {
    "tags": []
   },
   "outputs": [
    {
     "data": {
      "text/plain": [
       "{'MV': 0.23014959723820483,\n",
       " 'SP': 0.1283084004602992,\n",
       " 'LH': 0.1093210586881473,\n",
       " 'FA': 0.1001150747986191,\n",
       " 'CS': 0.08630609896432681,\n",
       " 'CL': 0.07767548906789414,\n",
       " 'LN': 0.0661680092059839,\n",
       " 'GR': 0.0661680092059839,\n",
       " 'OP': 0.03279631760644419,\n",
       " 'LS': 0.02704257767548907,\n",
       " 'PG': 0.026467203682393557,\n",
       " 'EO': 0.02186421173762946,\n",
       " 'AA': 0.012082853855005753,\n",
       " 'NH': 0.005178365937859608,\n",
       " 'VB': 0.0034522439585730723,\n",
       " 'ZG': 0.0023014959723820483,\n",
       " 'YT': 0.0017261219792865361,\n",
       " 'KM': 0.0017261219792865361,\n",
       " 'LL': 0.0011507479861910242,\n",
       " 'LT': 0.0}"
      ]
     },
     "execution_count": 14,
     "metadata": {},
     "output_type": "execute_result"
    }
   ],
   "source": [
    "qatar_pd = ProbDist(QGP)\n",
    "qatar_pd"
   ]
  },
  {
   "cell_type": "markdown",
   "id": "8b2eba0f-8b76-4c62-842d-3d665b24a277",
   "metadata": {},
   "source": [
    "### Solution 1.2"
   ]
  },
  {
   "cell_type": "code",
   "execution_count": 15,
   "id": "e113990d-a1f8-4990-a508-5b62e008a970",
   "metadata": {
    "tags": []
   },
   "outputs": [
    {
     "data": {
      "text/plain": [
       "{'MV': 0.23014959723820483,\n",
       " 'SP': 0.1283084004602992,\n",
       " 'LH': 0.1093210586881473,\n",
       " 'FA': 0.1001150747986191,\n",
       " 'CS': 0.08630609896432681,\n",
       " 'CL': 0.07767548906789414,\n",
       " 'LN': 0.0661680092059839,\n",
       " 'GR': 0.0661680092059839,\n",
       " 'OP': 0.03279631760644419,\n",
       " 'LS': 0.02704257767548907,\n",
       " 'PG': 0.026467203682393557,\n",
       " 'EO': 0.02186421173762946,\n",
       " 'AA': 0.012082853855005753,\n",
       " 'NH': 0.005178365937859608,\n",
       " 'VB': 0.0034522439585730723,\n",
       " 'ZG': 0.0023014959723820483,\n",
       " 'YT': 0.0017261219792865361,\n",
       " 'KM': 0.0017261219792865361,\n",
       " 'LL': 0.0011507479861910242,\n",
       " 'LT': 0.0}"
      ]
     },
     "execution_count": 15,
     "metadata": {},
     "output_type": "execute_result"
    }
   ],
   "source": [
    "US_GP = QGP #Assuming same data for US Grand Prix\n",
    "us_pd = ProbDist(US_GP)\n",
    "us_pd"
   ]
  },
  {
   "cell_type": "code",
   "execution_count": 16,
   "id": "c2964e87-70b2-4383-8518-95cba543cf58",
   "metadata": {
    "tags": []
   },
   "outputs": [],
   "source": [
    "combined_p = {}\n",
    "for driver in QGP:\n",
    "    qp = qatar_pd.get(driver, 0)    \n",
    "    up = us_pd.get(driver, 0)\n",
    "    joint_p = qp * up\n",
    "    combined_p[driver] = joint_p\n",
    "\n",
    "combined_pd = ProbDist(combined_p)"
   ]
  },
  {
   "cell_type": "code",
   "execution_count": 17,
   "id": "c01a2b0f-273f-4b79-a6ef-593f66ab4563",
   "metadata": {
    "tags": []
   },
   "outputs": [
    {
     "data": {
      "text/plain": [
       "{'MV': 0.4533939369895778,\n",
       " 'SP': 0.140917669328467,\n",
       " 'LH': 0.10229700703327349,\n",
       " 'FA': 0.08579346772685285,\n",
       " 'CS': 0.06375852238915937,\n",
       " 'CL': 0.051644403135219105,\n",
       " 'LN': 0.0374758426042948,\n",
       " 'GR': 0.0374758426042948,\n",
       " 'OP': 0.009206730632994615,\n",
       " 'LS': 0.006259670042562359,\n",
       " 'PG': 0.005996134816687166,\n",
       " 'EO': 0.0040918802813309394,\n",
       " 'AA': 0.0012496670388275238,\n",
       " 'NH': 0.00022953068060097375,\n",
       " 'VB': 0.000102013635822655,\n",
       " 'ZG': 4.533939369895778e-05,\n",
       " 'YT': 2.550340895566375e-05,\n",
       " 'KM': 2.550340895566375e-05,\n",
       " 'LL': 1.1334848424739445e-05,\n",
       " 'LT': 0.0}"
      ]
     },
     "execution_count": 17,
     "metadata": {},
     "output_type": "execute_result"
    }
   ],
   "source": [
    "combined_pd"
   ]
  },
  {
   "cell_type": "code",
   "execution_count": 18,
   "id": "b0802887-8d81-409e-afc4-6c35b8bb56bf",
   "metadata": {
    "tags": []
   },
   "outputs": [],
   "source": [
    "# ans = 0\n",
    "# for i in combined_pd.values():\n",
    "#     ans = ans + i\n",
    "# ans"
   ]
  },
  {
   "cell_type": "markdown",
   "id": "e4bfa701-019a-4785-971a-1b390c7d0623",
   "metadata": {},
   "source": [
    "### Solution 1.3"
   ]
  },
  {
   "cell_type": "code",
   "execution_count": 19,
   "id": "b8b6ed79-8d32-438e-b98b-88700a47b95e",
   "metadata": {
    "tags": []
   },
   "outputs": [
    {
     "data": {
      "text/plain": [
       "400"
      ]
     },
     "execution_count": 19,
     "metadata": {},
     "output_type": "execute_result"
    }
   ],
   "source": [
    "Q_US_PD = joint(qatar_pd, us_pd)\n",
    "len(Q_US_PD)"
   ]
  },
  {
   "cell_type": "code",
   "execution_count": 20,
   "id": "68ef3729-71d9-4403-91d3-9e36a2abfbb4",
   "metadata": {
    "tags": []
   },
   "outputs": [],
   "source": [
    "def redbull_wins_in_both_race(outcome): return ('MV' in outcome.split()[0] or 'SP' in outcome.split()[0]) and ('MV' in outcome.split()[1] or 'SP' in outcome.split()[1]) "
   ]
  },
  {
   "cell_type": "code",
   "execution_count": 21,
   "id": "6991965a-6fe1-4d15-bda6-dd2162f545dc",
   "metadata": {
    "tags": []
   },
   "outputs": [
    {
     "data": {
      "text/plain": [
       "0.1284921361140205"
      ]
     },
     "execution_count": 21,
     "metadata": {},
     "output_type": "execute_result"
    }
   ],
   "source": [
    "p(redbull_wins_in_both_race, Q_US_PD)"
   ]
  },
  {
   "cell_type": "markdown",
   "id": "2284ac7d-8eb3-4f6b-97f7-8285a88569d0",
   "metadata": {},
   "source": [
    "### Solution 1.4"
   ]
  },
  {
   "cell_type": "code",
   "execution_count": 22,
   "id": "82623fbf-3d87-4e4d-a613-ddd130f0d1ca",
   "metadata": {
    "tags": []
   },
   "outputs": [],
   "source": [
    "def redbull_wins_in_atleast_one_race(outcome): return ('MV' in outcome.split()[0] or 'SP' in outcome.split()[0]) or ('MV' in outcome.split()[1] or 'SP' in outcome.split()[1]) "
   ]
  },
  {
   "cell_type": "code",
   "execution_count": 23,
   "id": "197c737f-8095-4abd-b7e8-424dbd2236cf",
   "metadata": {
    "tags": []
   },
   "outputs": [
    {
     "data": {
      "text/plain": [
       "0.5884238592829867"
      ]
     },
     "execution_count": 23,
     "metadata": {},
     "output_type": "execute_result"
    }
   ],
   "source": [
    "p(redbull_wins_in_atleast_one_race, Q_US_PD)"
   ]
  },
  {
   "cell_type": "markdown",
   "id": "e1f3e3dc-5a4a-438b-9cbf-dc95495511ab",
   "metadata": {},
   "source": [
    "# Solution 2:"
   ]
  },
  {
   "cell_type": "markdown",
   "id": "d1096177-f6b5-48ef-80a7-39fb6e6b12bc",
   "metadata": {
    "tags": []
   },
   "source": [
    "### Solution 2.A.1"
   ]
  },
  {
   "cell_type": "code",
   "execution_count": 24,
   "id": "752e9251-9ee1-4d74-af95-74c5db72ebb0",
   "metadata": {
    "tags": []
   },
   "outputs": [],
   "source": [
    "def redbull_wins_in_first_race(outcome): return 'MV' in outcome.split()[0] or 'SP' in outcome.split()[0]"
   ]
  },
  {
   "cell_type": "code",
   "execution_count": 25,
   "id": "448096e1-0c50-4fe0-b998-617943b82851",
   "metadata": {
    "tags": []
   },
   "outputs": [],
   "source": [
    "def redbull_wins_in_second_race(outcome): return 'MV' in outcome.split()[1] or 'SP' in outcome.split()[1]"
   ]
  },
  {
   "cell_type": "code",
   "execution_count": 26,
   "id": "bfba5282-0d52-4caf-b11f-81949faf08fb",
   "metadata": {
    "tags": []
   },
   "outputs": [
    {
     "data": {
      "text/plain": [
       "0.358457997698504"
      ]
     },
     "execution_count": 26,
     "metadata": {},
     "output_type": "execute_result"
    }
   ],
   "source": [
    "p(redbull_wins_in_second_race, such_that(redbull_wins_in_first_race, Q_US_PD))"
   ]
  },
  {
   "cell_type": "markdown",
   "id": "265cdf0a-02f2-462e-86d5-b36f0a969505",
   "metadata": {},
   "source": [
    "### Solution 2.A.2"
   ]
  },
  {
   "cell_type": "code",
   "execution_count": 27,
   "id": "50381629-4ad0-44d2-8352-3072f94495ff",
   "metadata": {
    "tags": []
   },
   "outputs": [],
   "source": [
    "def redbull_wins_in_atleast_one_race(outcome): return ('MV' in outcome.split()[0] or 'SP' in outcome.split()[0]) or ('MV' in outcome.split()[1] or 'SP' in outcome.split()[1]) "
   ]
  },
  {
   "cell_type": "code",
   "execution_count": 28,
   "id": "9e562300-d36f-4a48-8e62-8ee8f0423f92",
   "metadata": {
    "tags": []
   },
   "outputs": [],
   "source": [
    "def redbull_wins_in_both_race(outcome): return ('MV' in outcome.split()[0] or 'SP' in outcome.split()[0]) and ('MV' in outcome.split()[1] or 'SP' in outcome.split()[1]) "
   ]
  },
  {
   "cell_type": "code",
   "execution_count": 29,
   "id": "9c1cd3e2-e746-46b0-9fe7-53dd2b8b05df",
   "metadata": {
    "tags": []
   },
   "outputs": [
    {
     "data": {
      "text/plain": [
       "0.21836663161584285"
      ]
     },
     "execution_count": 29,
     "metadata": {},
     "output_type": "execute_result"
    }
   ],
   "source": [
    "p(redbull_wins_in_both_race, such_that(redbull_wins_in_atleast_one_race, Q_US_PD))"
   ]
  },
  {
   "cell_type": "markdown",
   "id": "fbb1931e-0fa4-42e9-8163-882ddace115a",
   "metadata": {},
   "source": [
    "### Solution 2.B.1"
   ]
  },
  {
   "cell_type": "code",
   "execution_count": 30,
   "id": "156fe899-9813-446d-8bcf-7ca133f23052",
   "metadata": {
    "tags": []
   },
   "outputs": [],
   "source": [
    "def ferrari_wins_in_first_race(outcome): return 'CS' in outcome.split()[0] or 'CL' in outcome.split()[0]"
   ]
  },
  {
   "cell_type": "code",
   "execution_count": 31,
   "id": "5fb040d0-5dde-42c0-8daa-f3c0c3d858a2",
   "metadata": {
    "tags": []
   },
   "outputs": [],
   "source": [
    "def ferrari_wins_in_second_race(outcome): return 'CS' in outcome.split()[1] or 'CL' in outcome.split()[1]"
   ]
  },
  {
   "cell_type": "code",
   "execution_count": 32,
   "id": "a3f4a014-3925-4951-ada7-17e8f7cc9c07",
   "metadata": {
    "tags": []
   },
   "outputs": [
    {
     "data": {
      "text/plain": [
       "0.16398158803222085"
      ]
     },
     "execution_count": 32,
     "metadata": {},
     "output_type": "execute_result"
    }
   ],
   "source": [
    "p(ferrari_wins_in_second_race, such_that(ferrari_wins_in_first_race, Q_US_PD))"
   ]
  },
  {
   "cell_type": "markdown",
   "id": "2c776c37-3ce3-4d31-90cd-45d23a61cbaa",
   "metadata": {},
   "source": [
    "### Solution 2.B.2"
   ]
  },
  {
   "cell_type": "code",
   "execution_count": 33,
   "id": "dc17e849-0d9b-4c25-ad87-060f28e6dba4",
   "metadata": {
    "tags": []
   },
   "outputs": [],
   "source": [
    "def ferrari_wins_in_atleast_one_race(outcome): return ('CS' in outcome.split()[0] or 'CL' in outcome.split()[0]) or ('CS' in outcome.split()[1] or 'CL' in outcome.split()[1]) "
   ]
  },
  {
   "cell_type": "code",
   "execution_count": 34,
   "id": "2ccf486a-f06d-42bf-8f2c-fe164b6acf9b",
   "metadata": {
    "tags": []
   },
   "outputs": [],
   "source": [
    "def ferrari_wins_in_both_race(outcome): return ('CS' in outcome.split()[0] or 'CL' in outcome.split()[0]) and ('CS' in outcome.split()[1] or 'CL' in outcome.split()[1])"
   ]
  },
  {
   "cell_type": "code",
   "execution_count": 35,
   "id": "83861f78-f4f9-4533-9f96-0bbbf13dd1ba",
   "metadata": {
    "tags": []
   },
   "outputs": [
    {
     "data": {
      "text/plain": [
       "0.08931369476653098"
      ]
     },
     "execution_count": 35,
     "metadata": {},
     "output_type": "execute_result"
    }
   ],
   "source": [
    "p(ferrari_wins_in_both_race, such_that(ferrari_wins_in_atleast_one_race, Q_US_PD))"
   ]
  },
  {
   "cell_type": "markdown",
   "id": "2137c7c5-5d6b-471d-9ff5-5634550cbf80",
   "metadata": {},
   "source": [
    "### Solution 2.C.1"
   ]
  },
  {
   "cell_type": "code",
   "execution_count": 36,
   "id": "bca47587-ea97-4c74-b49a-17341330fdb6",
   "metadata": {
    "tags": []
   },
   "outputs": [],
   "source": [
    "def mercedes_wins_in_first_race(outcome): return 'LH' in outcome.split()[0] or 'GR' in outcome.split()[0]"
   ]
  },
  {
   "cell_type": "code",
   "execution_count": 37,
   "id": "d3b53538-69df-49d7-b848-c55bed3632c2",
   "metadata": {
    "tags": []
   },
   "outputs": [],
   "source": [
    "def mercedes_wins_in_second_race(outcome): return 'LH' in outcome.split()[1] or 'GR' in outcome.split()[1]"
   ]
  },
  {
   "cell_type": "code",
   "execution_count": 38,
   "id": "9ce5b5da-7687-4219-a8fd-ce28aebb78bc",
   "metadata": {
    "tags": []
   },
   "outputs": [
    {
     "data": {
      "text/plain": [
       "0.1754890678941312"
      ]
     },
     "execution_count": 38,
     "metadata": {},
     "output_type": "execute_result"
    }
   ],
   "source": [
    "p(mercedes_wins_in_second_race, such_that(mercedes_wins_in_first_race, Q_US_PD))"
   ]
  },
  {
   "cell_type": "markdown",
   "id": "052de9e3-dc4a-4724-9c1d-7556b02055dc",
   "metadata": {
    "tags": []
   },
   "source": [
    "### Solution 2.C.2"
   ]
  },
  {
   "cell_type": "code",
   "execution_count": 39,
   "id": "b9b820dd-4298-4db3-bbab-c50e0298ee00",
   "metadata": {
    "tags": []
   },
   "outputs": [],
   "source": [
    "def mercedes_wins_in_atleast_one_race(outcome): return ('LH' in outcome.split()[0] or 'GR' in outcome.split()[0]) or ('LH' in outcome.split()[1] or 'GR' in outcome.split()[1]) "
   ]
  },
  {
   "cell_type": "code",
   "execution_count": 40,
   "id": "d672a0e3-a247-4242-9e3f-03e5022d24a4",
   "metadata": {
    "tags": []
   },
   "outputs": [],
   "source": [
    "def mercedes_wins_in_both_race(outcome): return ('LH' in outcome.split()[0] or 'GR' in outcome.split()[0]) and ('LH' in outcome.split()[1] or 'GR' in outcome.split()[1]) "
   ]
  },
  {
   "cell_type": "code",
   "execution_count": 41,
   "id": "7dbd3443-f07c-4479-9f25-44fcf9da4413",
   "metadata": {
    "tags": []
   },
   "outputs": [
    {
     "data": {
      "text/plain": [
       "0.09618416903185113"
      ]
     },
     "execution_count": 41,
     "metadata": {},
     "output_type": "execute_result"
    }
   ],
   "source": [
    "p(mercedes_wins_in_both_race, such_that(mercedes_wins_in_atleast_one_race, Q_US_PD))"
   ]
  },
  {
   "cell_type": "markdown",
   "id": "b7ed86e2-23a6-4aa4-8d29-fdd3c07b70eb",
   "metadata": {},
   "source": [
    "### Solution 2.D.1"
   ]
  },
  {
   "cell_type": "code",
   "execution_count": 42,
   "id": "7c7b792e-9f63-48c4-83bb-e5e2c77e266a",
   "metadata": {
    "tags": []
   },
   "outputs": [],
   "source": [
    "def alpha_romeo_wins_in_first_race(outcome): return 'VB' in outcome.split()[0] or 'ZG' in outcome.split()[0]"
   ]
  },
  {
   "cell_type": "code",
   "execution_count": 43,
   "id": "650a387d-777e-4585-9430-179ee1e65268",
   "metadata": {
    "tags": []
   },
   "outputs": [],
   "source": [
    "def alpha_romeo_wins_in_second_race(outcome): return 'VB' in outcome.split()[1] or 'ZG' in outcome.split()[1]"
   ]
  },
  {
   "cell_type": "code",
   "execution_count": 44,
   "id": "d36fc8ba-c6e1-49f1-8d64-3fe62e936dce",
   "metadata": {
    "tags": []
   },
   "outputs": [
    {
     "data": {
      "text/plain": [
       "0.005753739930955121"
      ]
     },
     "execution_count": 44,
     "metadata": {},
     "output_type": "execute_result"
    }
   ],
   "source": [
    "p(alpha_romeo_wins_in_second_race, such_that(alpha_romeo_wins_in_first_race, Q_US_PD))"
   ]
  },
  {
   "cell_type": "markdown",
   "id": "94211232-3bc1-401a-a47f-1f6bc148ef03",
   "metadata": {},
   "source": [
    "### Solution 2.D.2"
   ]
  },
  {
   "cell_type": "code",
   "execution_count": 45,
   "id": "74f3e976-dca0-43e3-8041-0d8c9357077a",
   "metadata": {
    "tags": []
   },
   "outputs": [],
   "source": [
    "def alpha_romeo_wins_in_atleast_one_race(outcome): return ('VB' in outcome.split()[0] or 'ZG' in outcome.split()[0]) or ('VB' in outcome.split()[1] or 'ZG' in outcome.split()[1])"
   ]
  },
  {
   "cell_type": "code",
   "execution_count": 46,
   "id": "3eca06bd-20de-4d60-9065-91d44a7f4a1c",
   "metadata": {
    "tags": []
   },
   "outputs": [],
   "source": [
    "def alpha_romeo_wins_in_both_race(outcome): return ('VB' in outcome.split()[0] or 'ZG' in outcome.split()[0]) and ('VB' in outcome.split()[1] or 'ZG' in outcome.split()[1]) "
   ]
  },
  {
   "cell_type": "code",
   "execution_count": 47,
   "id": "ff57df2c-cb39-4944-9b75-0efb6bc3fcb1",
   "metadata": {
    "tags": []
   },
   "outputs": [
    {
     "data": {
      "text/plain": [
       "0.002885170225043277"
      ]
     },
     "execution_count": 47,
     "metadata": {},
     "output_type": "execute_result"
    }
   ],
   "source": [
    "p(alpha_romeo_wins_in_both_race, such_that(alpha_romeo_wins_in_atleast_one_race, Q_US_PD))"
   ]
  },
  {
   "cell_type": "code",
   "execution_count": null,
   "id": "a0ada98b-e808-45d8-ba35-c7ac8823acc5",
   "metadata": {},
   "outputs": [],
   "source": []
  },
  {
   "cell_type": "markdown",
   "id": "f3d89656-0030-4806-b31f-ed0ef3a9ca4b",
   "metadata": {},
   "source": [
    "# Solution 3:"
   ]
  },
  {
   "cell_type": "code",
   "execution_count": 48,
   "id": "d302394c-7be5-4df2-94b6-da79eb5728e4",
   "metadata": {
    "tags": []
   },
   "outputs": [],
   "source": [
    "Weather = {\n",
    "    \"Rainy\" : 1,\n",
    "    \"Sunny\" : 1,\n",
    "    \"Cloudy\" : 1,\n",
    "    \"Snowy\" : 1,\n",
    "    \"Foggy\" : 1\n",
    "}"
   ]
  },
  {
   "cell_type": "code",
   "execution_count": 49,
   "id": "fcf0eccc-ec4f-40d0-b1d5-c3a48a98916a",
   "metadata": {
    "tags": []
   },
   "outputs": [
    {
     "data": {
      "text/plain": [
       "{'Rainy': 0.2, 'Sunny': 0.2, 'Cloudy': 0.2, 'Snowy': 0.2, 'Foggy': 0.2}"
      ]
     },
     "execution_count": 49,
     "metadata": {},
     "output_type": "execute_result"
    }
   ],
   "source": [
    "Weather_PD = ProbDist(Weather)\n",
    "Weather_PD"
   ]
  },
  {
   "cell_type": "code",
   "execution_count": 50,
   "id": "094f609e-adf8-4e4f-b376-0c291b838114",
   "metadata": {
    "tags": []
   },
   "outputs": [
    {
     "data": {
      "text/plain": [
       "100"
      ]
     },
     "execution_count": 50,
     "metadata": {},
     "output_type": "execute_result"
    }
   ],
   "source": [
    "race_with_weather = joint(qatar_pd, Weather_PD)\n",
    "len(race_with_weather)"
   ]
  },
  {
   "cell_type": "code",
   "execution_count": 51,
   "id": "64bc7305-73d8-442f-9d6a-f49dc61bd7ba",
   "metadata": {
    "tags": []
   },
   "outputs": [
    {
     "data": {
      "text/plain": [
       "10000"
      ]
     },
     "execution_count": 51,
     "metadata": {},
     "output_type": "execute_result"
    }
   ],
   "source": [
    "two_races_with_weather = joint(race_with_weather, race_with_weather)\n",
    "len(two_races_with_weather)"
   ]
  },
  {
   "cell_type": "markdown",
   "id": "77438447-d46c-4a7d-ab14-4157676665b2",
   "metadata": {},
   "source": [
    "### Solution 3.1"
   ]
  },
  {
   "cell_type": "code",
   "execution_count": 52,
   "id": "b83c6ba1-af38-4942-bada-85f83fc3b901",
   "metadata": {
    "tags": []
   },
   "outputs": [],
   "source": [
    "def redbull_wins_in_first_race_on_rainy_day(outcome): return ('MV' in outcome.split()[0] and 'Rainy' in outcome.split()[1]) or ('SP' in outcome.split()[0]and 'Rainy' in outcome.split()[1])"
   ]
  },
  {
   "cell_type": "code",
   "execution_count": 53,
   "id": "e6d23097-40b7-49b1-9476-7d007221a1fe",
   "metadata": {
    "tags": []
   },
   "outputs": [],
   "source": [
    "def redbull_wins_in_second_race_any_weather(outcome): return 'MV' in outcome.split()[2] or 'SP' in outcome.split()[2]"
   ]
  },
  {
   "cell_type": "code",
   "execution_count": 54,
   "id": "dba98863-bc87-4aae-aec3-793975a16267",
   "metadata": {
    "tags": []
   },
   "outputs": [
    {
     "data": {
      "text/plain": [
       "0.3584579976985032"
      ]
     },
     "execution_count": 54,
     "metadata": {},
     "output_type": "execute_result"
    }
   ],
   "source": [
    "p(redbull_wins_in_second_race_any_weather, such_that(redbull_wins_in_first_race_on_rainy_day, two_races_with_weather))"
   ]
  },
  {
   "cell_type": "markdown",
   "id": "29ec6088-d45a-4d05-80a6-370aee10c089",
   "metadata": {},
   "source": [
    "# Solution 4:"
   ]
  },
  {
   "cell_type": "markdown",
   "id": "18edfe8c-d361-4567-87f1-f57229029fcf",
   "metadata": {
    "tags": []
   },
   "source": [
    "### Solution 4.1"
   ]
  },
  {
   "cell_type": "code",
   "execution_count": 63,
   "id": "1b922426-592c-4485-83b6-fcbbd0c50c00",
   "metadata": {
    "tags": []
   },
   "outputs": [],
   "source": [
    "total_designer_shows = 30 #took data from https://www.vogue.com/fashion-shows"
   ]
  },
  {
   "cell_type": "code",
   "execution_count": 56,
   "id": "d50eed8e-2322-44ae-b09f-3338ab221831",
   "metadata": {
    "tags": []
   },
   "outputs": [],
   "source": [
    "def cross(A, B):\n",
    "    \"\"\"The set of ways of concatenating one item from collection A with one from B.\"\"\"\n",
    "    return {a +\" \" + str(b): 1 for a in A for b in B}"
   ]
  },
  {
   "cell_type": "code",
   "execution_count": 57,
   "id": "eb50c9e9-2f49-4ea7-8b4c-a73ec340749f",
   "metadata": {
    "tags": []
   },
   "outputs": [],
   "source": [
    "designer_shows = [i for i in range(1, total_designer_shows+1)]\n",
    "# designer_shows"
   ]
  },
  {
   "cell_type": "code",
   "execution_count": 58,
   "id": "9a2499c1-eeb8-472b-a5f2-0c98f532580e",
   "metadata": {
    "tags": []
   },
   "outputs": [
    {
     "data": {
      "text/plain": [
       "5"
      ]
     },
     "execution_count": 58,
     "metadata": {},
     "output_type": "execute_result"
    }
   ],
   "source": [
    "my_poss = cross('I', designer_shows)\n",
    "max_poss = cross('M', designer_shows)\n",
    "len(my_poss)\n",
    "len(max_poss)"
   ]
  },
  {
   "cell_type": "code",
   "execution_count": 59,
   "id": "8fbce6ff-1dbf-4a0e-a750-dbbc6b9c6741",
   "metadata": {
    "tags": []
   },
   "outputs": [],
   "source": [
    "# my_poss"
   ]
  },
  {
   "cell_type": "code",
   "execution_count": 60,
   "id": "66306aac-eb00-423a-bf31-4ba47438ffd2",
   "metadata": {
    "tags": []
   },
   "outputs": [],
   "source": [
    "# max_poss"
   ]
  },
  {
   "cell_type": "code",
   "execution_count": 61,
   "id": "2e7a9449-6e68-4b53-a602-db880355d1e9",
   "metadata": {
    "tags": []
   },
   "outputs": [
    {
     "data": {
      "text/plain": [
       "25"
      ]
     },
     "execution_count": 61,
     "metadata": {},
     "output_type": "execute_result"
    }
   ],
   "source": [
    "all_poss = joint(ProbDist(my_poss), ProbDist(max_poss))\n",
    "len(all_poss)"
   ]
  },
  {
   "cell_type": "code",
   "execution_count": 62,
   "id": "03d72de3-205b-4af2-8bb4-b4a65347c8b2",
   "metadata": {
    "tags": []
   },
   "outputs": [
    {
     "data": {
      "text/plain": [
       "{'I 1 M 1': 0.03999999999999998,\n",
       " 'I 1 M 2': 0.03999999999999998,\n",
       " 'I 1 M 3': 0.03999999999999998,\n",
       " 'I 1 M 4': 0.03999999999999998,\n",
       " 'I 1 M 5': 0.03999999999999998,\n",
       " 'I 2 M 1': 0.03999999999999998,\n",
       " 'I 2 M 2': 0.03999999999999998,\n",
       " 'I 2 M 3': 0.03999999999999998,\n",
       " 'I 2 M 4': 0.03999999999999998,\n",
       " 'I 2 M 5': 0.03999999999999998,\n",
       " 'I 3 M 1': 0.03999999999999998,\n",
       " 'I 3 M 2': 0.03999999999999998,\n",
       " 'I 3 M 3': 0.03999999999999998,\n",
       " 'I 3 M 4': 0.03999999999999998,\n",
       " 'I 3 M 5': 0.03999999999999998,\n",
       " 'I 4 M 1': 0.03999999999999998,\n",
       " 'I 4 M 2': 0.03999999999999998,\n",
       " 'I 4 M 3': 0.03999999999999998,\n",
       " 'I 4 M 4': 0.03999999999999998,\n",
       " 'I 4 M 5': 0.03999999999999998,\n",
       " 'I 5 M 1': 0.03999999999999998,\n",
       " 'I 5 M 2': 0.03999999999999998,\n",
       " 'I 5 M 3': 0.03999999999999998,\n",
       " 'I 5 M 4': 0.03999999999999998,\n",
       " 'I 5 M 5': 0.03999999999999998}"
      ]
     },
     "execution_count": 62,
     "metadata": {},
     "output_type": "execute_result"
    }
   ],
   "source": [
    "all_poss"
   ]
  },
  {
   "cell_type": "code",
   "execution_count": 56,
   "id": "20717eca-f895-411b-84aa-f92aef7e5778",
   "metadata": {
    "tags": []
   },
   "outputs": [],
   "source": [
    "def i_meet_max(outcome): return outcome.split()[1] == outcome.split()[3]"
   ]
  },
  {
   "cell_type": "code",
   "execution_count": 57,
   "id": "fc487a93-699c-491b-94fd-dcf7f3fd550c",
   "metadata": {
    "tags": []
   },
   "outputs": [
    {
     "data": {
      "text/plain": [
       "0.03333333333333397"
      ]
     },
     "execution_count": 57,
     "metadata": {},
     "output_type": "execute_result"
    }
   ],
   "source": [
    "p(i_meet_max, all_poss)"
   ]
  },
  {
   "cell_type": "markdown",
   "id": "2c279ad1-03de-47a1-8db9-8ef519c1004b",
   "metadata": {},
   "source": [
    "### Solution 4.2"
   ]
  },
  {
   "cell_type": "code",
   "execution_count": 60,
   "id": "12e2a72e-352a-4266-8fde-b1120af3f422",
   "metadata": {
    "tags": []
   },
   "outputs": [],
   "source": [
    "def prob_meet_any_driver(people, num_of_shows):\n",
    "    return min(1, (people-1)/num_of_shows)"
   ]
  },
  {
   "cell_type": "code",
   "execution_count": 61,
   "id": "e1d604fb-a2d6-4fd2-9582-4160a65d792d",
   "metadata": {
    "tags": []
   },
   "outputs": [
    {
     "name": "stdout",
     "output_type": "stream",
     "text": [
      "0.6666666666666666\n"
     ]
    }
   ],
   "source": [
    "num_of_shows = 30 \n",
    "total_driver = len(QGP)\n",
    "me = 1\n",
    "total_people = total_driver + me\n",
    "print(prob_meet_any_driver(total_people, num_of_shows))"
   ]
  },
  {
   "cell_type": "markdown",
   "id": "df87770e-b9a9-407d-a843-30168f0b4fa0",
   "metadata": {},
   "source": [
    "<center>\n",
    "<img src=\"images/pretty-bunny.gif\" />\n",
    "</center>"
   ]
  }
 ],
 "metadata": {
  "kernelspec": {
   "display_name": "Python 3 (ipykernel)",
   "language": "python",
   "name": "python3"
  },
  "language_info": {
   "codemirror_mode": {
    "name": "ipython",
    "version": 3
   },
   "file_extension": ".py",
   "mimetype": "text/x-python",
   "name": "python",
   "nbconvert_exporter": "python",
   "pygments_lexer": "ipython3",
   "version": "3.11.4"
  }
 },
 "nbformat": 4,
 "nbformat_minor": 5
}
