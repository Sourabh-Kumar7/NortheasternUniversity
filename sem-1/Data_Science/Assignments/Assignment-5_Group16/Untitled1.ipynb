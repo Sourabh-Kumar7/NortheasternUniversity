{
 "cells": [
  {
   "cell_type": "code",
   "execution_count": 1,
   "id": "2f67d023-a377-4332-90c2-1386c4ddbcbe",
   "metadata": {
    "tags": []
   },
   "outputs": [
    {
     "name": "stdout",
     "output_type": "stream",
     "text": [
      "Probability of meeting at least one driver: 0.4880\n"
     ]
    }
   ],
   "source": [
    "def probability_meeting_driver(S, D):\n",
    "    if S <= 0 or D <= 0:\n",
    "        raise ValueError(\"Number of shows and drivers must be greater than zero\")\n",
    "    \n",
    "    numerator = 1\n",
    "    denominator = S**D\n",
    "    \n",
    "    for i in range(D):\n",
    "        numerator *= (S - 1)\n",
    "    \n",
    "    probability = 1 - (numerator / denominator)\n",
    "    return probability\n",
    "\n",
    "# Example usage:\n",
    "S = 5  # Number of shows\n",
    "D = 3  # Number of drivers\n",
    "result = probability_meeting_driver(S, D)\n",
    "print(f\"Probability of meeting at least one driver: {result:.4f}\")\n"
   ]
  },
  {
   "cell_type": "code",
   "execution_count": 2,
   "id": "6f112e3b-1df3-4855-b363-3db531ab794f",
   "metadata": {
    "tags": []
   },
   "outputs": [
    {
     "data": {
      "text/plain": [
       "0.4923845130764374"
      ]
     },
     "execution_count": 2,
     "metadata": {},
     "output_type": "execute_result"
    }
   ],
   "source": [
    "probability_meeting_driver(30, 20)"
   ]
  },
  {
   "cell_type": "code",
   "execution_count": null,
   "id": "1176a403-3e2a-4cf2-8750-d78f84013711",
   "metadata": {},
   "outputs": [],
   "source": []
  }
 ],
 "metadata": {
  "kernelspec": {
   "display_name": "Python 3 (ipykernel)",
   "language": "python",
   "name": "python3"
  },
  "language_info": {
   "codemirror_mode": {
    "name": "ipython",
    "version": 3
   },
   "file_extension": ".py",
   "mimetype": "text/x-python",
   "name": "python",
   "nbconvert_exporter": "python",
   "pygments_lexer": "ipython3",
   "version": "3.11.4"
  }
 },
 "nbformat": 4,
 "nbformat_minor": 5
}
