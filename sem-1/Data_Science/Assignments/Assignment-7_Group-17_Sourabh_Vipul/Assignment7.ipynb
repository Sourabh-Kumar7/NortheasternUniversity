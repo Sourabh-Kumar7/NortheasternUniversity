{
 "cells": [
  {
   "cell_type": "code",
   "execution_count": 2,
   "id": "78e7d3c9-e317-45ae-b1a9-624ca71fb6bd",
   "metadata": {
    "tags": []
   },
   "outputs": [],
   "source": [
    "import pandas as pd"
   ]
  },
  {
   "cell_type": "code",
   "execution_count": 3,
   "id": "fbd0aa35-4c20-4a1a-a1cc-14e653970215",
   "metadata": {
    "tags": []
   },
   "outputs": [],
   "source": [
    "data_set_loc = \"data/abalone/abalone.data\"\n",
    "column_name = \"Rings\"\n",
    "column_names = [\"Sex\", \"Length\", \"Diameter\", \"Height\", \"WholeWeight\", \"ShuckedWeight\", \"VisceraWeight\", \"ShellWeight\", \"Rings\"]"
   ]
  },
  {
   "cell_type": "code",
   "execution_count": 4,
   "id": "0c280389-d1c5-4956-bc46-8c8871f078c9",
   "metadata": {
    "tags": []
   },
   "outputs": [],
   "source": [
    "abalone = pd.read_csv(data_set_loc, names=column_names)"
   ]
  },
  {
   "cell_type": "code",
   "execution_count": 5,
   "id": "5d2e199f-f7b4-4e85-9333-05742df13c02",
   "metadata": {
    "tags": []
   },
   "outputs": [
    {
     "data": {
      "text/html": [
       "<div>\n",
       "<style scoped>\n",
       "    .dataframe tbody tr th:only-of-type {\n",
       "        vertical-align: middle;\n",
       "    }\n",
       "\n",
       "    .dataframe tbody tr th {\n",
       "        vertical-align: top;\n",
       "    }\n",
       "\n",
       "    .dataframe thead th {\n",
       "        text-align: right;\n",
       "    }\n",
       "</style>\n",
       "<table border=\"1\" class=\"dataframe\">\n",
       "  <thead>\n",
       "    <tr style=\"text-align: right;\">\n",
       "      <th></th>\n",
       "      <th>Sex</th>\n",
       "      <th>Length</th>\n",
       "      <th>Diameter</th>\n",
       "      <th>Height</th>\n",
       "      <th>WholeWeight</th>\n",
       "      <th>ShuckedWeight</th>\n",
       "      <th>VisceraWeight</th>\n",
       "      <th>ShellWeight</th>\n",
       "      <th>Rings</th>\n",
       "    </tr>\n",
       "  </thead>\n",
       "  <tbody>\n",
       "    <tr>\n",
       "      <th>0</th>\n",
       "      <td>M</td>\n",
       "      <td>0.455</td>\n",
       "      <td>0.365</td>\n",
       "      <td>0.095</td>\n",
       "      <td>0.5140</td>\n",
       "      <td>0.2245</td>\n",
       "      <td>0.1010</td>\n",
       "      <td>0.150</td>\n",
       "      <td>15</td>\n",
       "    </tr>\n",
       "    <tr>\n",
       "      <th>1</th>\n",
       "      <td>M</td>\n",
       "      <td>0.350</td>\n",
       "      <td>0.265</td>\n",
       "      <td>0.090</td>\n",
       "      <td>0.2255</td>\n",
       "      <td>0.0995</td>\n",
       "      <td>0.0485</td>\n",
       "      <td>0.070</td>\n",
       "      <td>7</td>\n",
       "    </tr>\n",
       "    <tr>\n",
       "      <th>2</th>\n",
       "      <td>F</td>\n",
       "      <td>0.530</td>\n",
       "      <td>0.420</td>\n",
       "      <td>0.135</td>\n",
       "      <td>0.6770</td>\n",
       "      <td>0.2565</td>\n",
       "      <td>0.1415</td>\n",
       "      <td>0.210</td>\n",
       "      <td>9</td>\n",
       "    </tr>\n",
       "    <tr>\n",
       "      <th>3</th>\n",
       "      <td>M</td>\n",
       "      <td>0.440</td>\n",
       "      <td>0.365</td>\n",
       "      <td>0.125</td>\n",
       "      <td>0.5160</td>\n",
       "      <td>0.2155</td>\n",
       "      <td>0.1140</td>\n",
       "      <td>0.155</td>\n",
       "      <td>10</td>\n",
       "    </tr>\n",
       "    <tr>\n",
       "      <th>4</th>\n",
       "      <td>I</td>\n",
       "      <td>0.330</td>\n",
       "      <td>0.255</td>\n",
       "      <td>0.080</td>\n",
       "      <td>0.2050</td>\n",
       "      <td>0.0895</td>\n",
       "      <td>0.0395</td>\n",
       "      <td>0.055</td>\n",
       "      <td>7</td>\n",
       "    </tr>\n",
       "  </tbody>\n",
       "</table>\n",
       "</div>"
      ],
      "text/plain": [
       "  Sex  Length  Diameter  Height  WholeWeight  ShuckedWeight  VisceraWeight  \\\n",
       "0   M   0.455     0.365   0.095       0.5140         0.2245         0.1010   \n",
       "1   M   0.350     0.265   0.090       0.2255         0.0995         0.0485   \n",
       "2   F   0.530     0.420   0.135       0.6770         0.2565         0.1415   \n",
       "3   M   0.440     0.365   0.125       0.5160         0.2155         0.1140   \n",
       "4   I   0.330     0.255   0.080       0.2050         0.0895         0.0395   \n",
       "\n",
       "   ShellWeight  Rings  \n",
       "0        0.150     15  \n",
       "1        0.070      7  \n",
       "2        0.210      9  \n",
       "3        0.155     10  \n",
       "4        0.055      7  "
      ]
     },
     "execution_count": 5,
     "metadata": {},
     "output_type": "execute_result"
    }
   ],
   "source": [
    "abalone.head()"
   ]
  },
  {
   "cell_type": "code",
   "execution_count": 6,
   "id": "4b1a3fe1-bdf7-4733-afa3-240b838777ff",
   "metadata": {
    "tags": []
   },
   "outputs": [],
   "source": [
    "import numpy as np\n",
    "import matplotlib.pyplot as plt\n",
    "%matplotlib inline"
   ]
  },
  {
   "cell_type": "code",
   "execution_count": 7,
   "id": "68e55bc0-4464-4f23-81c9-8c888ed1e598",
   "metadata": {
    "tags": []
   },
   "outputs": [
    {
     "data": {
      "image/png": "[encoded data removed]",
      "text/plain": [
       "<Figure size 640x480 with 9 Axes>"
      ]
     },
     "metadata": {},
     "output_type": "display_data"
    }
   ],
   "source": [
    "_ = abalone.hist(sharex=True, sharey=True, grid=False)\n",
    "plt.tight_layout()"
   ]
  },
  {
   "cell_type": "code",
   "execution_count": 8,
   "id": "c36e76aa-e750-4cc0-8dfa-e9085d47aa44",
   "metadata": {
    "tags": []
   },
   "outputs": [
    {
     "data": {
      "text/plain": [
       "<Axes: >"
      ]
     },
     "execution_count": 8,
     "metadata": {},
     "output_type": "execute_result"
    },
    {
     "data": {
      "image/png": "[encoded data removed]",
      "text/plain": [
       "<Figure size 640x480 with 1 Axes>"
      ]
     },
     "metadata": {},
     "output_type": "display_data"
    }
   ],
   "source": [
    "abalone[column_name].hist()"
   ]
  },
  {
   "cell_type": "code",
   "execution_count": 9,
   "id": "e53f5043-e4b0-4ffc-b51b-8fc9f9e6217c",
   "metadata": {
    "tags": []
   },
   "outputs": [
    {
     "data": {
      "text/html": [
       "<div>\n",
       "<style scoped>\n",
       "    .dataframe tbody tr th:only-of-type {\n",
       "        vertical-align: middle;\n",
       "    }\n",
       "\n",
       "    .dataframe tbody tr th {\n",
       "        vertical-align: top;\n",
       "    }\n",
       "\n",
       "    .dataframe thead th {\n",
       "        text-align: right;\n",
       "    }\n",
       "</style>\n",
       "<table border=\"1\" class=\"dataframe\">\n",
       "  <thead>\n",
       "    <tr style=\"text-align: right;\">\n",
       "      <th></th>\n",
       "      <th>Sex</th>\n",
       "      <th>Length</th>\n",
       "      <th>Diameter</th>\n",
       "      <th>Height</th>\n",
       "      <th>WholeWeight</th>\n",
       "      <th>ShuckedWeight</th>\n",
       "      <th>VisceraWeight</th>\n",
       "      <th>ShellWeight</th>\n",
       "      <th>Rings</th>\n",
       "    </tr>\n",
       "  </thead>\n",
       "  <tbody>\n",
       "    <tr>\n",
       "      <th>0</th>\n",
       "      <td>M</td>\n",
       "      <td>0.455</td>\n",
       "      <td>0.365</td>\n",
       "      <td>0.095</td>\n",
       "      <td>0.5140</td>\n",
       "      <td>0.2245</td>\n",
       "      <td>0.1010</td>\n",
       "      <td>0.1500</td>\n",
       "      <td>15</td>\n",
       "    </tr>\n",
       "    <tr>\n",
       "      <th>1</th>\n",
       "      <td>M</td>\n",
       "      <td>0.350</td>\n",
       "      <td>0.265</td>\n",
       "      <td>0.090</td>\n",
       "      <td>0.2255</td>\n",
       "      <td>0.0995</td>\n",
       "      <td>0.0485</td>\n",
       "      <td>0.0700</td>\n",
       "      <td>7</td>\n",
       "    </tr>\n",
       "    <tr>\n",
       "      <th>2</th>\n",
       "      <td>F</td>\n",
       "      <td>0.530</td>\n",
       "      <td>0.420</td>\n",
       "      <td>0.135</td>\n",
       "      <td>0.6770</td>\n",
       "      <td>0.2565</td>\n",
       "      <td>0.1415</td>\n",
       "      <td>0.2100</td>\n",
       "      <td>9</td>\n",
       "    </tr>\n",
       "    <tr>\n",
       "      <th>3</th>\n",
       "      <td>M</td>\n",
       "      <td>0.440</td>\n",
       "      <td>0.365</td>\n",
       "      <td>0.125</td>\n",
       "      <td>0.5160</td>\n",
       "      <td>0.2155</td>\n",
       "      <td>0.1140</td>\n",
       "      <td>0.1550</td>\n",
       "      <td>10</td>\n",
       "    </tr>\n",
       "    <tr>\n",
       "      <th>4</th>\n",
       "      <td>I</td>\n",
       "      <td>0.330</td>\n",
       "      <td>0.255</td>\n",
       "      <td>0.080</td>\n",
       "      <td>0.2050</td>\n",
       "      <td>0.0895</td>\n",
       "      <td>0.0395</td>\n",
       "      <td>0.0550</td>\n",
       "      <td>7</td>\n",
       "    </tr>\n",
       "    <tr>\n",
       "      <th>...</th>\n",
       "      <td>...</td>\n",
       "      <td>...</td>\n",
       "      <td>...</td>\n",
       "      <td>...</td>\n",
       "      <td>...</td>\n",
       "      <td>...</td>\n",
       "      <td>...</td>\n",
       "      <td>...</td>\n",
       "      <td>...</td>\n",
       "    </tr>\n",
       "    <tr>\n",
       "      <th>4172</th>\n",
       "      <td>F</td>\n",
       "      <td>0.565</td>\n",
       "      <td>0.450</td>\n",
       "      <td>0.165</td>\n",
       "      <td>0.8870</td>\n",
       "      <td>0.3700</td>\n",
       "      <td>0.2390</td>\n",
       "      <td>0.2490</td>\n",
       "      <td>11</td>\n",
       "    </tr>\n",
       "    <tr>\n",
       "      <th>4173</th>\n",
       "      <td>M</td>\n",
       "      <td>0.590</td>\n",
       "      <td>0.440</td>\n",
       "      <td>0.135</td>\n",
       "      <td>0.9660</td>\n",
       "      <td>0.4390</td>\n",
       "      <td>0.2145</td>\n",
       "      <td>0.2605</td>\n",
       "      <td>10</td>\n",
       "    </tr>\n",
       "    <tr>\n",
       "      <th>4174</th>\n",
       "      <td>M</td>\n",
       "      <td>0.600</td>\n",
       "      <td>0.475</td>\n",
       "      <td>0.205</td>\n",
       "      <td>1.1760</td>\n",
       "      <td>0.5255</td>\n",
       "      <td>0.2875</td>\n",
       "      <td>0.3080</td>\n",
       "      <td>9</td>\n",
       "    </tr>\n",
       "    <tr>\n",
       "      <th>4175</th>\n",
       "      <td>F</td>\n",
       "      <td>0.625</td>\n",
       "      <td>0.485</td>\n",
       "      <td>0.150</td>\n",
       "      <td>1.0945</td>\n",
       "      <td>0.5310</td>\n",
       "      <td>0.2610</td>\n",
       "      <td>0.2960</td>\n",
       "      <td>10</td>\n",
       "    </tr>\n",
       "    <tr>\n",
       "      <th>4176</th>\n",
       "      <td>M</td>\n",
       "      <td>0.710</td>\n",
       "      <td>0.555</td>\n",
       "      <td>0.195</td>\n",
       "      <td>1.9485</td>\n",
       "      <td>0.9455</td>\n",
       "      <td>0.3765</td>\n",
       "      <td>0.4950</td>\n",
       "      <td>12</td>\n",
       "    </tr>\n",
       "  </tbody>\n",
       "</table>\n",
       "<p>4177 rows × 9 columns</p>\n",
       "</div>"
      ],
      "text/plain": [
       "     Sex  Length  Diameter  Height  WholeWeight  ShuckedWeight  VisceraWeight  \\\n",
       "0      M   0.455     0.365   0.095       0.5140         0.2245         0.1010   \n",
       "1      M   0.350     0.265   0.090       0.2255         0.0995         0.0485   \n",
       "2      F   0.530     0.420   0.135       0.6770         0.2565         0.1415   \n",
       "3      M   0.440     0.365   0.125       0.5160         0.2155         0.1140   \n",
       "4      I   0.330     0.255   0.080       0.2050         0.0895         0.0395   \n",
       "...   ..     ...       ...     ...          ...            ...            ...   \n",
       "4172   F   0.565     0.450   0.165       0.8870         0.3700         0.2390   \n",
       "4173   M   0.590     0.440   0.135       0.9660         0.4390         0.2145   \n",
       "4174   M   0.600     0.475   0.205       1.1760         0.5255         0.2875   \n",
       "4175   F   0.625     0.485   0.150       1.0945         0.5310         0.2610   \n",
       "4176   M   0.710     0.555   0.195       1.9485         0.9455         0.3765   \n",
       "\n",
       "      ShellWeight  Rings  \n",
       "0          0.1500     15  \n",
       "1          0.0700      7  \n",
       "2          0.2100      9  \n",
       "3          0.1550     10  \n",
       "4          0.0550      7  \n",
       "...           ...    ...  \n",
       "4172       0.2490     11  \n",
       "4173       0.2605     10  \n",
       "4174       0.3080      9  \n",
       "4175       0.2960     10  \n",
       "4176       0.4950     12  \n",
       "\n",
       "[4177 rows x 9 columns]"
      ]
     },
     "execution_count": 9,
     "metadata": {},
     "output_type": "execute_result"
    }
   ],
   "source": [
    "abalone.fillna(value={column_name: abalone[column_name].mean()}, inplace=True)\n",
    "abalone"
   ]
  },
  {
   "cell_type": "code",
   "execution_count": 10,
   "id": "9bd28a68-0c88-4b76-b7ce-ea3b29c57944",
   "metadata": {
    "tags": []
   },
   "outputs": [
    {
     "data": {
      "text/plain": [
       "Length           0.523992\n",
       "Diameter         0.407881\n",
       "Height           0.139516\n",
       "WholeWeight      0.828742\n",
       "ShuckedWeight    0.359367\n",
       "VisceraWeight    0.180594\n",
       "ShellWeight      0.238831\n",
       "Rings            9.933684\n",
       "dtype: float64"
      ]
     },
     "execution_count": 10,
     "metadata": {},
     "output_type": "execute_result"
    }
   ],
   "source": [
    "abalone_mean = abalone.mean(numeric_only=True)\n",
    "abalone_mean"
   ]
  },
  {
   "cell_type": "code",
   "execution_count": 11,
   "id": "f870bc95-f4ef-40f3-b43e-bee8f998dead",
   "metadata": {
    "tags": []
   },
   "outputs": [
    {
     "data": {
      "text/plain": [
       "Length            0.014422\n",
       "Diameter          0.009849\n",
       "Height            0.001750\n",
       "WholeWeight       0.240481\n",
       "ShuckedWeight     0.049268\n",
       "VisceraWeight     0.012015\n",
       "ShellWeight       0.019377\n",
       "Rings            10.395266\n",
       "dtype: float64"
      ]
     },
     "execution_count": 11,
     "metadata": {},
     "output_type": "execute_result"
    }
   ],
   "source": [
    "abalone_var = abalone.var(numeric_only=True)\n",
    "abalone_var"
   ]
  },
  {
   "cell_type": "code",
   "execution_count": 12,
   "id": "abf85aa0-32dd-49fd-acec-5530d31efae7",
   "metadata": {
    "tags": []
   },
   "outputs": [
    {
     "data": {
      "text/plain": [
       "Length           0.120093\n",
       "Diameter         0.099240\n",
       "Height           0.041827\n",
       "WholeWeight      0.490389\n",
       "ShuckedWeight    0.221963\n",
       "VisceraWeight    0.109614\n",
       "ShellWeight      0.139203\n",
       "Rings            3.224169\n",
       "dtype: float64"
      ]
     },
     "execution_count": 12,
     "metadata": {},
     "output_type": "execute_result"
    }
   ],
   "source": [
    "abalone_std = abalone.std(numeric_only=True)\n",
    "abalone_std"
   ]
  },
  {
   "cell_type": "code",
   "execution_count": 13,
   "id": "bef7c781-af94-4435-b234-15eeb3d1f663",
   "metadata": {
    "tags": []
   },
   "outputs": [],
   "source": [
    "def calculate_gamma_parameters(sample_means, sample_variances):\n",
    "    # Calculate alpha (α) and beta (β) using the method of moments\n",
    "    alpha = sample_means ** 2/ sample_variances\n",
    "    beta = sample_variances / sample_means\n",
    "    return alpha, beta"
   ]
  },
  {
   "cell_type": "code",
   "execution_count": 14,
   "id": "a82e33d5-0ca6-4e62-b7e9-7104cb986566",
   "metadata": {
    "tags": []
   },
   "outputs": [],
   "source": [
    "alpha_mom, beta_mom = calculate_gamma_parameters(abalone_mean, abalone_var)"
   ]
  },
  {
   "cell_type": "code",
   "execution_count": 15,
   "id": "1cb534fa-38dc-4e22-bfb0-5c9e441b5364",
   "metadata": {
    "tags": []
   },
   "outputs": [
    {
     "data": {
      "image/png": "[encoded data removed]",
      "text/plain": [
       "<Figure size 640x480 with 1 Axes>"
      ]
     },
     "metadata": {},
     "output_type": "display_data"
    }
   ],
   "source": [
    "import numpy as np\n",
    "import matplotlib.pyplot as plt\n",
    "%matplotlib inline\n",
    "\n",
    "from scipy.stats.distributions import gamma\n",
    "\n",
    "abalone[column_name].hist(density=True, alpha=0.6, color='b', edgecolor='k')\n",
    "plt.plot(np.linspace(0, 25), gamma.pdf(np.linspace(0, 25), alpha_mom[column_name], beta_mom[column_name]), 'r')\n",
    "plt.show()"
   ]
  },
  {
   "cell_type": "code",
   "execution_count": 16,
   "id": "30e3a3f8-7610-43dd-8ff3-7791359b27b1",
   "metadata": {
    "tags": []
   },
   "outputs": [],
   "source": [
    "import pandas as pd\n",
    "import numpy as np\n",
    "from scipy.stats import expon, norm, uniform, poisson, gamma\n",
    "\n",
    "def mom_estimator(data, distributions):\n",
    "    estimators = {}\n",
    "\n",
    "    for dist_name, dist_label in distributions:\n",
    "        if dist_name == \"exponential\":\n",
    "            sample_mean = data.mean()\n",
    "            lambda_mom = 1 / sample_mean\n",
    "            estimators[dist_label] = f\"MOM Estimator for {dist_label}: λ = {lambda_mom:.6f}\"\n",
    "        elif dist_name == \"normal\":\n",
    "            sample_mean = data.mean()\n",
    "            sample_std = data.std()\n",
    "            estimators[dist_label] = f\"MOM Estimators for {dist_label}: Mean = {sample_mean:.6f}, Standard Deviation = {sample_std:.6f}\"\n",
    "        elif dist_name == \"uniform\":\n",
    "            estimators[dist_label] = f\"MOM Estimators for {dist_label}: Minimum = {data.min()}, Maximum = {data.max()}\"\n",
    "        elif dist_name == \"poisson\":\n",
    "            sample_mean = data.mean()\n",
    "            estimators[dist_label] = f\"MOM Estimator for {dist_label}: λ = {sample_mean:.6f}\"\n",
    "        elif dist_name == \"gamma\":\n",
    "            sample_mean = data.mean()\n",
    "            sample_var = data.var()\n",
    "            alpha_mom = sample_mean**2 / sample_var\n",
    "            beta_mom = sample_var / sample_mean\n",
    "            estimators[dist_label] = f\"MOM Estimators for {dist_label}: Shape (α) = {alpha_mom:.6f}, Scale (β) = {beta_mom:.6f}\"\n",
    "        else:\n",
    "            estimators[dist_label] = f\"Distribution '{dist_name}' not recognized. MOM Estimators are not applicable.\"\n",
    "\n",
    "    return estimators\n"
   ]
  },
  {
   "cell_type": "code",
   "execution_count": 17,
   "id": "a102f99f-a41e-4854-826f-e9b5de5e458b",
   "metadata": {
    "tags": []
   },
   "outputs": [
    {
     "name": "stdout",
     "output_type": "stream",
     "text": [
      "MOM Estimator for Exponential: λ = 0.100668\n",
      "MOM Estimators for Normal: Mean = 9.933684, Standard Deviation = 3.224169\n",
      "MOM Estimators for Uniform: Minimum = 1, Maximum = 29\n",
      "MOM Estimator for Poisson: λ = 9.933684\n",
      "MOM Estimators for Gamma: Shape (α) = 9.492599, Scale (β) = 1.046466\n"
     ]
    }
   ],
   "source": [
    "distributions = [\n",
    "    (\"exponential\", \"Exponential\"),\n",
    "    (\"normal\", \"Normal\"),\n",
    "    (\"uniform\", \"Uniform\"),\n",
    "    (\"poisson\", \"Poisson\"),\n",
    "    (\"gamma\", \"Gamma\")\n",
    "]\n",
    "\n",
    "\n",
    "data = abalone[column_name]  # Replace \"area\" with the column you want to analyze\n",
    "mom_estimators = mom_estimator(data, distributions)\n",
    "for dist_label, mom in mom_estimators.items():\n",
    "    print(mom)"
   ]
  },
  {
   "cell_type": "code",
   "execution_count": 18,
   "id": "94aff2ae-78a0-4607-88fa-48a9461b0c09",
   "metadata": {
    "tags": []
   },
   "outputs": [],
   "source": [
    "from scipy.stats import expon, norm, uniform, poisson, lognorm, gamma\n",
    "import numpy as np\n",
    "\n",
    "def analyze_distributions(data, column_name, specific_event, distributions):\n",
    "    results = {}\n",
    "    \n",
    "    for distribution, params in distributions:\n",
    "        if distribution == \"exponential\":\n",
    "            lambda_mom = params\n",
    "            prob_gt_event = 1 - expon.cdf(specific_event, loc=0, scale=1 / lambda_mom)\n",
    "            num_samples = 1000\n",
    "            loc, scale = 0, 1 / lambda_mom\n",
    "            random_samples = expon.rvs(loc=loc, scale=scale, size=num_samples)\n",
    "            results[distribution] = (prob_gt_event, random_samples)\n",
    "        elif distribution == \"normal\":\n",
    "            mu, sigma = params\n",
    "            prob_gt_event = 1 - norm.cdf(specific_event, loc=mu, scale=sigma)\n",
    "            num_samples = 1000\n",
    "            random_samples = norm.rvs(loc=mu, scale=sigma, size=num_samples)\n",
    "            results[distribution] = (prob_gt_event, random_samples)\n",
    "        elif distribution == \"uniform\":\n",
    "            loc, scale = params\n",
    "            prob_gt_event = 1 - uniform.cdf(specific_event, loc=loc, scale=scale)\n",
    "            num_samples = 1000\n",
    "            random_samples = uniform.rvs(loc=loc, scale=scale, size=num_samples)\n",
    "            results[distribution] = (prob_gt_event, random_samples)\n",
    "        elif distribution == \"poisson\":\n",
    "            mu = params\n",
    "            prob_gt_event = 1 - poisson.cdf(specific_event, mu)\n",
    "            num_samples = 1000\n",
    "            random_samples = poisson.rvs(mu, size=num_samples)\n",
    "            results[distribution] = (prob_gt_event, random_samples)\n",
    "        elif distribution == \"lognormal\":\n",
    "            s, loc, scale = params\n",
    "            prob_gt_event = 1 - lognorm.cdf(specific_event, s=s, loc=loc, scale=scale)\n",
    "            num_samples = 1000\n",
    "            random_samples = lognorm.rvs(s=s, loc=loc, scale=scale, size=num_samples)\n",
    "            results[distribution] = (prob_gt_event, random_samples)\n",
    "        elif distribution == \"gamma\":\n",
    "            a, loc, scale = params\n",
    "            prob_gt_event = 1 - gamma.cdf(specific_event, a=a, loc=loc, scale=scale)\n",
    "            num_samples = 1000\n",
    "            random_samples = gamma.rvs(a=a, loc=loc, scale=scale, size=num_samples)\n",
    "            results[distribution] = (prob_gt_event, random_samples)\n",
    "    \n",
    "    return results"
   ]
  },
  {
   "cell_type": "code",
   "execution_count": 19,
   "id": "87028a9a-e983-4386-abd0-f03b5f6f5df8",
   "metadata": {
    "tags": []
   },
   "outputs": [
    {
     "name": "stdout",
     "output_type": "stream",
     "text": [
      "Distribution: gamma\n",
      "Probability of X > 10: 0.448713\n",
      "First 10 random samples: [10.01569074  8.23042021  7.10220646  9.77008499 10.79565727  9.68918137\n",
      " 11.46387949 13.28180805 11.90105975 17.13340627]\n",
      "\n"
     ]
    }
   ],
   "source": [
    "# The variable \"specific_event\" is a threshold value, \n",
    "# Calculating the probability that \"X\" exceeds this threshold for the respective distribution.\n",
    "\n",
    "data = abalone[column_name]\n",
    "specific_event = 10\n",
    "\n",
    "shape_mom = (data.mean() ** 2) / data.var()\n",
    "scale_mom = data.var() / data.mean()\n",
    "\n",
    "distributions = [\n",
    "    # (\"exponential\", 1 / data.mean()),  # Exponential distribution with lambda_MOM\n",
    "    # (\"normal\", (data.mean(), data.std())),  # Normal distribution with mean and standard deviation\n",
    "    # (\"uniform\", (data.min(), data.max())),  # Uniform distribution with min and max\n",
    "    # (\"poisson\", data.mean()),  # Poisson distribution with lambda\n",
    "    # (\"lognormal\", (1, 0, np.exp(data.mean()))),  # Log-Normal distribution with shape, loc, and scale\n",
    "    (\"gamma\", (shape_mom, 0, scale_mom))  # Gamma distribution with shape, loc, and scale\n",
    "]\n",
    "\n",
    "results = analyze_distributions(data, column_name, specific_event, distributions)\n",
    "\n",
    "for distribution, (prob_gt_event, random_samples) in results.items():\n",
    "    print(f\"Distribution: {distribution}\")\n",
    "    print(f\"Probability of X > {specific_event}: {prob_gt_event:.6f}\")\n",
    "    print(f\"First 10 random samples: {random_samples[:10]}\\n\")"
   ]
  },
  {
   "cell_type": "code",
   "execution_count": null,
   "id": "dfae045c-16ed-4aef-8675-b393825fbccf",
   "metadata": {},
   "outputs": [],
   "source": []
  }
 ],
 "metadata": {
  "kernelspec": {
   "display_name": "Python 3 (ipykernel)",
   "language": "python",
   "name": "python3"
  },
  "language_info": {
   "codemirror_mode": {
    "name": "ipython",
    "version": 3
   },
   "file_extension": ".py",
   "mimetype": "text/x-python",
   "name": "python",
   "nbconvert_exporter": "python",
   "pygments_lexer": "ipython3",
   "version": "3.11.4"
  }
 },
 "nbformat": 4,
 "nbformat_minor": 5
}
