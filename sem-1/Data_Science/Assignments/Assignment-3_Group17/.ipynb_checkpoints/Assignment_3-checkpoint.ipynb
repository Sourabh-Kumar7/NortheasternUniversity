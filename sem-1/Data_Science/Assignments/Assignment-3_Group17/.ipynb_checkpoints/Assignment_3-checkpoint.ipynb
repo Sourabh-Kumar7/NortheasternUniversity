{
 "cells": [
  {
   "cell_type": "markdown",
   "id": "3ca5a0ad-bf4a-49c3-9b63-1a3605df9dcc",
   "metadata": {},
   "source": [
    "ASSIGNMENT - 3"
   ]
  },
  {
   "cell_type": "code",
   "execution_count": 1,
   "id": "520eaa9a-0c7a-46b6-854d-7a5336b6d46c",
   "metadata": {},
   "outputs": [],
   "source": [
    "# 1. Code to determine if a number is prime\n",
    "\n",
    "import math\n",
    "def is_prime_number(n):\n",
    "    if n <= 1:\n",
    "        return False\n",
    "    if n <= 3:\n",
    "        return True\n",
    "    if n % 2 == 0 or n % 3 == 0:\n",
    "        return False\n",
    "    for i in range(5, int(math.sqrt(n)) + 1, 6):\n",
    "        if n % i == 0 or n % (i + 2) == 0:\n",
    "            return False\n",
    "    return True\n",
    "\n",
    "# Time Complexity: O(sqrt(n))\n",
    "# Space Complexity: O(1)\n",
    "    "
   ]
  },
  {
   "cell_type": "code",
   "execution_count": 2,
   "id": "497f6e02-d9e2-4cf8-a60c-93562288790b",
   "metadata": {},
   "outputs": [],
   "source": [
    "# 2. Code written in dua lipa style\n",
    "import math\n",
    "\n",
    "def is_prime_number(n):\n",
    "    return n > 1 and all(n % i != 0 for i in range(2, int(math.sqrt(n)) + 1))\n",
    "\n",
    "# Time Complexity: O(sqrt(n))\n",
    "# Space Complexity: O(1)\n",
    "# n > 1: Checks if n is greater than 1 to exclude 0 and 1 as prime numbers.\n",
    "# all(n % i != 0 for i in range(2, int(math.sqrt(n)) + 1)): This part generates a sequence of numbers from 2 to the square root of n and checks if n is not divisible by any of those numbers. The all function returns True if all elements in the sequence satisfy the condition, indicating that n is prime.\n"
   ]
  },
  {
   "cell_type": "code",
   "execution_count": null,
   "id": "82e8ceec-4f24-4524-bd3f-5a2a01b12f16",
   "metadata": {},
   "outputs": [],
   "source": [
    "#  3. Write a program that determines if a number is a prime number, \n",
    "#     which works sometimes or most of the time (at least half of the time). \n",
    "#     Then, augment your code so that the program learns from experience, \n",
    "#     so that the more you use it, the better it gets at determining if a number is prime.\n",
    "# Hint for Part 3:\n",
    "#     The program needs to improve itself on its own by modifying its code so it will need some feedback. \n",
    "#     So, use part 1 of your homework, which consists of writing a program in Python that determines whether a number is prime."
   ]
  },
  {
   "cell_type": "code",
   "execution_count": 6,
   "id": "74d98b93-b456-4e6a-9a01-318b45e65b16",
   "metadata": {},
   "outputs": [],
   "source": [
    "# Miller-Rabin Primality Test\n",
    "\n",
    "import random\n",
    "\n",
    "def power(x, y, p):\n",
    "    \"\"\"\n",
    "    Utility function to perform modular exponentiation.\n",
    "    It returns (x^y) % p.\n",
    "    \"\"\"\n",
    "    res = 1\n",
    "    x = x % p\n",
    "    while y > 0:\n",
    "        if y & 1:\n",
    "            res = (res * x) % p\n",
    "        y = y >> 1  # Equivalent to y //= 2\n",
    "        x = (x * x) % p\n",
    "    return res\n",
    "\n",
    "def miller_test(d, n):\n",
    "    \"\"\"\n",
    "    Perform a Miller-Rabin test for primality.\n",
    "    Returns False if n is composite, and True if n is probably prime.\n",
    "    \"\"\"\n",
    "    a = 2 + random.randint(1, n - 4)\n",
    "    x = power(a, d, n)\n",
    "\n",
    "    if x == 1 or x == n - 1:\n",
    "        return True\n",
    "\n",
    "    while d != n - 1:\n",
    "        x = (x * x) % n\n",
    "        d *= 2\n",
    "\n",
    "        if x == 1:\n",
    "            return False\n",
    "        if x == n - 1:\n",
    "            return True\n",
    "\n",
    "    return False\n",
    "\n",
    "def is_prime(n, k):\n",
    "    \"\"\"\n",
    "    Check if a number n is prime using the Miller-Rabin primality test with 'k' iterations.\n",
    "    Higher 'k' values provide more accuracy.\n",
    "    \"\"\"\n",
    "    if n <= 1 or n == 4:\n",
    "        return False\n",
    "    if n <= 3:\n",
    "        return True\n",
    "\n",
    "    d = n - 1\n",
    "    while d % 2 == 0:\n",
    "        d //= 2\n",
    "\n",
    "    for i in range(k):\n",
    "        if not miller_test(d, n):\n",
    "            return False\n",
    "\n",
    "    return True\n",
    "\n",
    "\n",
    "# Time Complexity of is_prime(n, k): O(k * log(n))\n",
    "# Space Complexity of all functions: O(1)\n",
    "\n",
    "\n",
    "# Example usage:\n",
    "# k = 4\n",
    "# for n in range(1, 100):\n",
    "#     if is_prime(n, k):\n",
    "#         print(n, end=\" \")\n"
   ]
  },
  {
   "cell_type": "code",
   "execution_count": 7,
   "id": "ba96319a-62f9-407b-90c7-17e3f3a664cd",
   "metadata": {
    "tags": []
   },
   "outputs": [],
   "source": [
    "def generate_dataset(num_samples):\n",
    "    \"\"\"\n",
    "    Generate a balanced dataset of prime and non-prime numbers with labels.\n",
    "    :param num_samples: The number of samples to generate (half will be prime, half non-prime).\n",
    "    :return: A list of (number, label) tuples, where label is 1 for prime and 0 for non-prime.\n",
    "    \"\"\"\n",
    "    dataset = set()\n",
    "\n",
    "    # Generate prime numbers\n",
    "    while len(dataset) < num_samples // 2:\n",
    "        num = random.randint(2, 10000000)  # Adjust the range as needed\n",
    "        if is_prime_number(num):\n",
    "            dataset.add((num, 1))  # 1 indicates \"prime\"\n",
    "\n",
    "    # Generate non-prime numbers\n",
    "    while len(dataset) < num_samples:\n",
    "        num = random.randint(2, 10000000)  # Adjust the range as needed\n",
    "        if not is_prime_number(num):\n",
    "            dataset.add((num, 0))  # 0 indicates \"not prime\"\n",
    "\n",
    "    return list(dataset)\n"
   ]
  },
  {
   "cell_type": "code",
   "execution_count": 8,
   "id": "a4aa821d-cb39-41dc-b68a-0fa21be5f83d",
   "metadata": {
    "tags": []
   },
   "outputs": [],
   "source": [
    "# Adjust the number of samples as needed\n",
    "num_samples = 1000000"
   ]
  },
  {
   "cell_type": "code",
   "execution_count": 9,
   "id": "f052df37-5165-4095-aa17-26962c55ba8d",
   "metadata": {
    "tags": []
   },
   "outputs": [
    {
     "data": {
      "text/plain": [
       "1000000"
      ]
     },
     "execution_count": 9,
     "metadata": {},
     "output_type": "execute_result"
    }
   ],
   "source": [
    "# Dataset Generation\n",
    "dataset = generate_dataset(num_samples)\n",
    "len(dataset)"
   ]
  },
  {
   "cell_type": "code",
   "execution_count": 11,
   "id": "63ba2811-2184-4b6c-8137-1a9516c2ce51",
   "metadata": {
    "tags": []
   },
   "outputs": [],
   "source": [
    "#Split Dataset into traning and testing dataset\n",
    "from sklearn.model_selection import train_test_split\n",
    "\n",
    "# Assuming you have X and y as your features and labels\n",
    "X = [data[0] for data in dataset]\n",
    "y = [data[1] for data in dataset]\n",
    "\n",
    "# Split the dataset into training and testing sets (e.g., 80/20 split)\n",
    "X_train, X_test, y_train, y_test = train_test_split(X, y, test_size=0.2, random_state=42)"
   ]
  },
  {
   "cell_type": "code",
   "execution_count": 12,
   "id": "ef9f7dfd-c62c-4b8d-a630-50f99fb0fa3f",
   "metadata": {},
   "outputs": [
    {
     "name": "stdout",
     "output_type": "stream",
     "text": [
      "99927 / 200000\n"
     ]
    }
   ],
   "source": [
    "#Checking with dataset before code evoltuion\n",
    "k=0\n",
    "failure_list  = []\n",
    "for num, is_prime_num in zip(X_test, y_test):\n",
    "    # print(num)\n",
    "    prime_num = 1 if is_prime(num, k) else 0\n",
    "    if(prime_num!=is_prime_num):\n",
    "        failure_list.append(num)\n",
    "        \n",
    "failure_len = len(failure_list)\n",
    "total = len(X_test)\n",
    "print(total - failure_len,\"/\",total)"
   ]
  },
  {
   "cell_type": "markdown",
   "id": "41e1fac7-b4d2-452c-869c-f07d1980ed2e",
   "metadata": {},
   "source": [
    "The code before evolution is giving nearly 50% correct answer."
   ]
  },
  {
   "cell_type": "code",
   "execution_count": 13,
   "id": "cd3b485c-30a9-41ea-bfac-9fbd01dfb8b8",
   "metadata": {},
   "outputs": [
    {
     "data": {
      "text/plain": [
       "2"
      ]
     },
     "execution_count": 13,
     "metadata": {},
     "output_type": "execute_result"
    }
   ],
   "source": [
    "#Code evolution from itself\n",
    "for num, is_prime_num in zip(X_train, y_train):\n",
    "    # print(num)\n",
    "    prime_num = 1 if is_prime(num, k) else 0\n",
    "    while(prime_num!=is_prime_num):\n",
    "        k+=1\n",
    "        prime_num = 1 if is_prime(num, k) else 0\n",
    "        # print(k)\n",
    "\n",
    "k"
   ]
  },
  {
   "cell_type": "code",
   "execution_count": 14,
   "id": "5d6a3970-9fee-4388-bae2-d07165c2aa39",
   "metadata": {},
   "outputs": [
    {
     "name": "stdout",
     "output_type": "stream",
     "text": [
      "200000 / 200000\n"
     ]
    }
   ],
   "source": [
    "#Checking with dataset after code evoltuion\n",
    "\n",
    "failure_list  = []\n",
    "for num, is_prime_num in zip(X_test, y_test):\n",
    "    # print(num)\n",
    "    prime_num = 1 if is_prime(num, k) else 0\n",
    "    if(prime_num!=is_prime_num):\n",
    "        failure_list.append(num)\n",
    "\n",
    "failure_len = len(failure_list)\n",
    "total = len(X_test)\n",
    "print(total - failure_len,\"/\",total)"
   ]
  },
  {
   "cell_type": "markdown",
   "id": "41103046-c973-40ac-8170-8a81478b131b",
   "metadata": {},
   "source": [
    "evolved code is working fine now on test data."
   ]
  }
 ],
 "metadata": {
  "kernelspec": {
   "display_name": "Python 3 (ipykernel)",
   "language": "python",
   "name": "python3"
  },
  "language_info": {
   "codemirror_mode": {
    "name": "ipython",
    "version": 3
   },
   "file_extension": ".py",
   "mimetype": "text/x-python",
   "name": "python",
   "nbconvert_exporter": "python",
   "pygments_lexer": "ipython3",
   "version": "3.11.4"
  }
 },
 "nbformat": 4,
 "nbformat_minor": 5
}
