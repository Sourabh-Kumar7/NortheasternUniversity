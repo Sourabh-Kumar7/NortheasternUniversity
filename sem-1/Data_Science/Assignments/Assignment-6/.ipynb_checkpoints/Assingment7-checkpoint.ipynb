{
 "cells": [
  {
   "cell_type": "code",
   "execution_count": null,
   "id": "ed9b8b75-81e7-42ea-88d8-673ef3757559",
   "metadata": {},
   "outputs": [],
   "source": [
    "# import pandas as pd\n",
    "# import matplotlib.pyplot as plt\n",
    "\n",
    "# data_set_loc = \"data/SNAP.csv\"\n",
    "# column_name = \"Close\"\n",
    "# dataset = pd.read_csv(data_set_loc)"
   ]
  },
  {
   "cell_type": "code",
   "execution_count": 73,
   "id": "64d98d1b-acc2-4afd-827a-98af4452ea72",
   "metadata": {
    "tags": []
   },
   "outputs": [],
   "source": [
    "data_set_loc = \"data/abalone/abalone.data\"\n",
    "\n",
    "column_names = [\"Sex\", \"Length\", \"Diameter\", \"Height\", \"WholeWeight\", \"ShuckedWeight\", \"VisceraWeight\", \"ShellWeight\", \"Rings\"]\n",
    "column_name = \"Height\"\n",
    "dataset = pd.read_csv(data_set_loc, names=column_names)"
   ]
  },
  {
   "cell_type": "code",
   "execution_count": 74,
   "id": "d02d236e-3d91-4b9d-aea2-88f49f87e9ff",
   "metadata": {
    "tags": []
   },
   "outputs": [
    {
     "data": {
      "text/html": [
       "<div>\n",
       "<style scoped>\n",
       "    .dataframe tbody tr th:only-of-type {\n",
       "        vertical-align: middle;\n",
       "    }\n",
       "\n",
       "    .dataframe tbody tr th {\n",
       "        vertical-align: top;\n",
       "    }\n",
       "\n",
       "    .dataframe thead th {\n",
       "        text-align: right;\n",
       "    }\n",
       "</style>\n",
       "<table border=\"1\" class=\"dataframe\">\n",
       "  <thead>\n",
       "    <tr style=\"text-align: right;\">\n",
       "      <th></th>\n",
       "      <th>Sex</th>\n",
       "      <th>Length</th>\n",
       "      <th>Diameter</th>\n",
       "      <th>Height</th>\n",
       "      <th>WholeWeight</th>\n",
       "      <th>ShuckedWeight</th>\n",
       "      <th>VisceraWeight</th>\n",
       "      <th>ShellWeight</th>\n",
       "      <th>Rings</th>\n",
       "    </tr>\n",
       "  </thead>\n",
       "  <tbody>\n",
       "    <tr>\n",
       "      <th>0</th>\n",
       "      <td>M</td>\n",
       "      <td>0.455</td>\n",
       "      <td>0.365</td>\n",
       "      <td>0.095</td>\n",
       "      <td>0.5140</td>\n",
       "      <td>0.2245</td>\n",
       "      <td>0.1010</td>\n",
       "      <td>0.150</td>\n",
       "      <td>15</td>\n",
       "    </tr>\n",
       "    <tr>\n",
       "      <th>1</th>\n",
       "      <td>M</td>\n",
       "      <td>0.350</td>\n",
       "      <td>0.265</td>\n",
       "      <td>0.090</td>\n",
       "      <td>0.2255</td>\n",
       "      <td>0.0995</td>\n",
       "      <td>0.0485</td>\n",
       "      <td>0.070</td>\n",
       "      <td>7</td>\n",
       "    </tr>\n",
       "    <tr>\n",
       "      <th>2</th>\n",
       "      <td>F</td>\n",
       "      <td>0.530</td>\n",
       "      <td>0.420</td>\n",
       "      <td>0.135</td>\n",
       "      <td>0.6770</td>\n",
       "      <td>0.2565</td>\n",
       "      <td>0.1415</td>\n",
       "      <td>0.210</td>\n",
       "      <td>9</td>\n",
       "    </tr>\n",
       "    <tr>\n",
       "      <th>3</th>\n",
       "      <td>M</td>\n",
       "      <td>0.440</td>\n",
       "      <td>0.365</td>\n",
       "      <td>0.125</td>\n",
       "      <td>0.5160</td>\n",
       "      <td>0.2155</td>\n",
       "      <td>0.1140</td>\n",
       "      <td>0.155</td>\n",
       "      <td>10</td>\n",
       "    </tr>\n",
       "    <tr>\n",
       "      <th>4</th>\n",
       "      <td>I</td>\n",
       "      <td>0.330</td>\n",
       "      <td>0.255</td>\n",
       "      <td>0.080</td>\n",
       "      <td>0.2050</td>\n",
       "      <td>0.0895</td>\n",
       "      <td>0.0395</td>\n",
       "      <td>0.055</td>\n",
       "      <td>7</td>\n",
       "    </tr>\n",
       "    <tr>\n",
       "      <th>5</th>\n",
       "      <td>I</td>\n",
       "      <td>0.425</td>\n",
       "      <td>0.300</td>\n",
       "      <td>0.095</td>\n",
       "      <td>0.3515</td>\n",
       "      <td>0.1410</td>\n",
       "      <td>0.0775</td>\n",
       "      <td>0.120</td>\n",
       "      <td>8</td>\n",
       "    </tr>\n",
       "    <tr>\n",
       "      <th>6</th>\n",
       "      <td>F</td>\n",
       "      <td>0.530</td>\n",
       "      <td>0.415</td>\n",
       "      <td>0.150</td>\n",
       "      <td>0.7775</td>\n",
       "      <td>0.2370</td>\n",
       "      <td>0.1415</td>\n",
       "      <td>0.330</td>\n",
       "      <td>20</td>\n",
       "    </tr>\n",
       "    <tr>\n",
       "      <th>7</th>\n",
       "      <td>F</td>\n",
       "      <td>0.545</td>\n",
       "      <td>0.425</td>\n",
       "      <td>0.125</td>\n",
       "      <td>0.7680</td>\n",
       "      <td>0.2940</td>\n",
       "      <td>0.1495</td>\n",
       "      <td>0.260</td>\n",
       "      <td>16</td>\n",
       "    </tr>\n",
       "    <tr>\n",
       "      <th>8</th>\n",
       "      <td>M</td>\n",
       "      <td>0.475</td>\n",
       "      <td>0.370</td>\n",
       "      <td>0.125</td>\n",
       "      <td>0.5095</td>\n",
       "      <td>0.2165</td>\n",
       "      <td>0.1125</td>\n",
       "      <td>0.165</td>\n",
       "      <td>9</td>\n",
       "    </tr>\n",
       "    <tr>\n",
       "      <th>9</th>\n",
       "      <td>F</td>\n",
       "      <td>0.550</td>\n",
       "      <td>0.440</td>\n",
       "      <td>0.150</td>\n",
       "      <td>0.8945</td>\n",
       "      <td>0.3145</td>\n",
       "      <td>0.1510</td>\n",
       "      <td>0.320</td>\n",
       "      <td>19</td>\n",
       "    </tr>\n",
       "  </tbody>\n",
       "</table>\n",
       "</div>"
      ],
      "text/plain": [
       "  Sex  Length  Diameter  Height  WholeWeight  ShuckedWeight  VisceraWeight  \\\n",
       "0   M   0.455     0.365   0.095       0.5140         0.2245         0.1010   \n",
       "1   M   0.350     0.265   0.090       0.2255         0.0995         0.0485   \n",
       "2   F   0.530     0.420   0.135       0.6770         0.2565         0.1415   \n",
       "3   M   0.440     0.365   0.125       0.5160         0.2155         0.1140   \n",
       "4   I   0.330     0.255   0.080       0.2050         0.0895         0.0395   \n",
       "5   I   0.425     0.300   0.095       0.3515         0.1410         0.0775   \n",
       "6   F   0.530     0.415   0.150       0.7775         0.2370         0.1415   \n",
       "7   F   0.545     0.425   0.125       0.7680         0.2940         0.1495   \n",
       "8   M   0.475     0.370   0.125       0.5095         0.2165         0.1125   \n",
       "9   F   0.550     0.440   0.150       0.8945         0.3145         0.1510   \n",
       "\n",
       "   ShellWeight  Rings  \n",
       "0        0.150     15  \n",
       "1        0.070      7  \n",
       "2        0.210      9  \n",
       "3        0.155     10  \n",
       "4        0.055      7  \n",
       "5        0.120      8  \n",
       "6        0.330     20  \n",
       "7        0.260     16  \n",
       "8        0.165      9  \n",
       "9        0.320     19  "
      ]
     },
     "execution_count": 74,
     "metadata": {},
     "output_type": "execute_result"
    }
   ],
   "source": [
    "dataset.head(10)"
   ]
  },
  {
   "cell_type": "code",
   "execution_count": 75,
   "id": "f84a6691-48cd-4a90-b3fd-a543f0708cef",
   "metadata": {
    "tags": []
   },
   "outputs": [
    {
     "data": {
      "text/plain": [
       "4177"
      ]
     },
     "execution_count": 75,
     "metadata": {},
     "output_type": "execute_result"
    }
   ],
   "source": [
    "len(dataset[column_name])"
   ]
  },
  {
   "cell_type": "code",
   "execution_count": 76,
   "id": "8291cbfb-827a-4148-b142-eca5fb8ba048",
   "metadata": {
    "tags": []
   },
   "outputs": [],
   "source": [
    "import matplotlib.pyplot as plt\n",
    "\n",
    "def plot_histogram(dataframe, column_name):\n",
    "    \"\"\"\n",
    "    Plot a histogram for a specific column in a pandas DataFrame.\n",
    "\n",
    "    Parameters:\n",
    "    - dataframe: pandas DataFrame\n",
    "    - column_name: Name of the column to plot as a histogram\n",
    "    \"\"\"\n",
    "    if column_name not in dataframe.columns:\n",
    "        print(f\"Column '{column_name}' not found in the DataFrame.\")\n",
    "        return\n",
    "\n",
    "    plt.figure(figsize=(8, 6))\n",
    "    plt.hist(dataframe[column_name], bins=20, color='blue', edgecolor='black')\n",
    "    plt.title(f'Histogram of {column_name}')\n",
    "    plt.xlabel(column_name)\n",
    "    plt.ylabel('Frequency')\n",
    "    plt.grid(True)\n",
    "    plt.show()\n"
   ]
  },
  {
   "cell_type": "code",
   "execution_count": 77,
   "id": "bca3e649-69ae-4514-a011-3ef93c2a42f6",
   "metadata": {
    "tags": []
   },
   "outputs": [
    {
     "data": {
      "image/png": "[encoded data removed]",
      "text/plain": [
       "<Figure size 800x600 with 1 Axes>"
      ]
     },
     "metadata": {},
     "output_type": "display_data"
    }
   ],
   "source": [
    "plot_histogram(dataset, column_name)"
   ]
  },
  {
   "cell_type": "code",
   "execution_count": 78,
   "id": "d8910e20-613e-4acb-ac77-feffc9626c68",
   "metadata": {
    "tags": []
   },
   "outputs": [
    {
     "data": {
      "image/png": "[encoded data removed]",
      "text/plain": [
       "<Figure size 1500x1000 with 1 Axes>"
      ]
     },
     "metadata": {},
     "output_type": "display_data"
    }
   ],
   "source": [
    "import pandas as pd\n",
    "import numpy as np\n",
    "import matplotlib.pyplot as plt\n",
    "from scipy.stats import norm\n",
    "\n",
    "def fit_and_plot_distributions(data, column_name):\n",
    "    x_range = np.linspace(0, data[column_name].max(), 1000)\n",
    "    mu, sigma = norm.fit(data[column_name])  # Fit a normal distribution to the data\n",
    "    fitted_data = norm.rvs(loc=mu, scale=sigma, size=len(data))\n",
    "    pdf = norm.pdf(x_range, loc=mu, scale=sigma)\n",
    "    title = \"Fitted Normal Distribution\"\n",
    "    \n",
    "    # Create a single subplot\n",
    "    fig, ax = plt.subplots(1, 1, figsize=(15, 10))\n",
    "    \n",
    "    ax.hist(fitted_data, bins=20, density=True, alpha=0.7, edgecolor=\"black\", label=\"Fitted Data\")\n",
    "    ax.plot(x_range, pdf, 'r', label=\"Fitted PDF\")\n",
    "    ax.set_xlabel(column_name)\n",
    "    ax.set_ylabel(\"Probability Density\")\n",
    "    ax.set_title(title)\n",
    "    ax.legend()\n",
    "\n",
    "    plt.tight_layout()\n",
    "    plt.show()\n",
    "\n",
    "# Call the function with your dataset and column name\n",
    "fit_and_plot_distributions(dataset, column_name)\n"
   ]
  },
  {
   "cell_type": "code",
   "execution_count": 83,
   "id": "0695e9ad-1691-4f29-868f-fd7fcaa2147f",
   "metadata": {
    "tags": []
   },
   "outputs": [],
   "source": [
    "import pandas as pd\n",
    "import numpy as np\n",
    "from scipy.stats import expon, norm, uniform, poisson, gamma\n",
    "\n",
    "def mom_estimator(data, distributions):\n",
    "    estimators = {}\n",
    "\n",
    "    for dist_name, dist_label in distributions:\n",
    "        if dist_name == \"exponential\":\n",
    "            sample_mean = data.mean()\n",
    "            lambda_mom = 1 / sample_mean\n",
    "            estimators[dist_label] = f\"MOM Estimator for {dist_label}: λ = {lambda_mom:.6f}\"\n",
    "        elif dist_name == \"normal\":\n",
    "            sample_mean = data.mean()\n",
    "            sample_std = data.std()\n",
    "            estimators[dist_label] = f\"MOM Estimators for {dist_label}: Mean = {sample_mean:.6f}, Standard Deviation = {sample_std:.6f}\"\n",
    "        elif dist_name == \"uniform\":\n",
    "            estimators[dist_label] = f\"MOM Estimators for {dist_label}: Minimum = {data.min()}, Maximum = {data.max()}\"\n",
    "        elif dist_name == \"poisson\":\n",
    "            sample_mean = data.mean()\n",
    "            estimators[dist_label] = f\"MOM Estimator for {dist_label}: λ = {sample_mean:.6f}\"\n",
    "        elif dist_name == \"gamma\":\n",
    "            sample_mean = data.mean()\n",
    "            sample_var = data.var()\n",
    "            alpha_mom = sample_mean**2 / sample_var\n",
    "            beta_mom = sample_var / sample_mean\n",
    "            estimators[dist_label] = f\"MOM Estimators for {dist_label}: Shape (α) = {alpha_mom:.6f}, Scale (β) = {beta_mom:.6f}\"\n",
    "        else:\n",
    "            estimators[dist_label] = f\"Distribution '{dist_name}' not recognized. MOM Estimators are not applicable.\"\n",
    "\n",
    "    return estimators\n"
   ]
  },
  {
   "cell_type": "code",
   "execution_count": 80,
   "id": "48730b9f-cc06-4e5e-9860-dbedbe68ec27",
   "metadata": {
    "tags": []
   },
   "outputs": [
    {
     "name": "stdout",
     "output_type": "stream",
     "text": [
      "MOM Estimators for Normal: Mean = 0.139516, Standard Deviation = 0.041827\n"
     ]
    }
   ],
   "source": [
    "distributions = [\n",
    "    # (\"exponential\", \"Exponential\"),\n",
    "    (\"normal\", \"Normal\"),\n",
    "    # (\"uniform\", \"Uniform\"),\n",
    "    # (\"poisson\", \"Poisson\"),\n",
    "    # (\"gamma\", \"Gamma\")\n",
    "]\n",
    "\n",
    "\n",
    "data = dataset[column_name]  # Replace \"area\" with the column you want to analyze\n",
    "mom_estimators = mom_estimator(data, distributions)\n",
    "for dist_label, mom in mom_estimators.items():\n",
    "    print(mom)"
   ]
  },
  {
   "cell_type": "code",
   "execution_count": 81,
   "id": "22fcde41-946e-4eb2-ae94-e9cec2e81249",
   "metadata": {
    "tags": []
   },
   "outputs": [],
   "source": [
    "from scipy.stats import expon, norm, uniform, poisson, lognorm, gamma\n",
    "import numpy as np\n",
    "\n",
    "def analyze_distributions(data, column_name, specific_event, distributions):\n",
    "    results = {}\n",
    "    \n",
    "    for distribution, params in distributions:\n",
    "        if distribution == \"exponential\":\n",
    "            lambda_mom = params\n",
    "            prob_gt_event = 1 - expon.cdf(specific_event, loc=0, scale=1 / lambda_mom)\n",
    "            num_samples = 1000\n",
    "            loc, scale = 0, 1 / lambda_mom\n",
    "            random_samples = expon.rvs(loc=loc, scale=scale, size=num_samples)\n",
    "            results[distribution] = (prob_gt_event, random_samples)\n",
    "        elif distribution == \"normal\":\n",
    "            mu, sigma = params\n",
    "            prob_gt_event = 1 - norm.cdf(specific_event, loc=mu, scale=sigma)\n",
    "            num_samples = 1000\n",
    "            random_samples = norm.rvs(loc=mu, scale=sigma, size=num_samples)\n",
    "            results[distribution] = (prob_gt_event, random_samples)\n",
    "        elif distribution == \"uniform\":\n",
    "            loc, scale = params\n",
    "            prob_gt_event = 1 - uniform.cdf(specific_event, loc=loc, scale=scale)\n",
    "            num_samples = 1000\n",
    "            random_samples = uniform.rvs(loc=loc, scale=scale, size=num_samples)\n",
    "            results[distribution] = (prob_gt_event, random_samples)\n",
    "        elif distribution == \"poisson\":\n",
    "            mu = params\n",
    "            prob_gt_event = 1 - poisson.cdf(specific_event, mu)\n",
    "            num_samples = 1000\n",
    "            random_samples = poisson.rvs(mu, size=num_samples)\n",
    "            results[distribution] = (prob_gt_event, random_samples)\n",
    "        elif distribution == \"lognormal\":\n",
    "            s, loc, scale = params\n",
    "            prob_gt_event = 1 - lognorm.cdf(specific_event, s=s, loc=loc, scale=scale)\n",
    "            num_samples = 1000\n",
    "            random_samples = lognorm.rvs(s=s, loc=loc, scale=scale, size=num_samples)\n",
    "            results[distribution] = (prob_gt_event, random_samples)\n",
    "        elif distribution == \"gamma\":\n",
    "            a, loc, scale = params\n",
    "            prob_gt_event = 1 - gamma.cdf(specific_event, a=a, loc=loc, scale=scale)\n",
    "            num_samples = 1000\n",
    "            random_samples = gamma.rvs(a=a, loc=loc, scale=scale, size=num_samples)\n",
    "            results[distribution] = (prob_gt_event, random_samples)\n",
    "    \n",
    "    return results"
   ]
  },
  {
   "cell_type": "code",
   "execution_count": 82,
   "id": "fa5a1a8e-106d-4338-bcee-b83619585b60",
   "metadata": {
    "tags": []
   },
   "outputs": [
    {
     "name": "stdout",
     "output_type": "stream",
     "text": [
      "Distribution: normal\n",
      "Probability of X > 10: 0.000000\n",
      "First 10 random samples: [0.17628016 0.13254707 0.1920554  0.16887948 0.07939791 0.1387386\n",
      " 0.14216406 0.18844245 0.12290047 0.09788401]\n",
      "\n"
     ]
    }
   ],
   "source": [
    "# Example usage:\n",
    "data = dataset[column_name]\n",
    "specific_event = 10\n",
    "\n",
    "distributions = [\n",
    "    # (\"exponential\", 1 / data.mean()),  # Exponential distribution with lambda_MOM\n",
    "    (\"normal\", (data.mean(), data.std())),  # Normal distribution with mean and standard deviation\n",
    "    # (\"uniform\", (data.min(), data.max())),  # Uniform distribution with min and max\n",
    "    # (\"poisson\", data.mean()),  # Poisson distribution with lambda\n",
    "    # (\"lognormal\", (1, 0, np.exp(data.mean()))),  # Log-Normal distribution with shape, loc, and scale\n",
    "    # (\"gamma\", (2, 0, data.mean()))  # Gamma distribution with shape, loc, and scale\n",
    "]\n",
    "\n",
    "results = analyze_distributions(data, column_name, specific_event, distributions)\n",
    "\n",
    "for distribution, (prob_gt_5, random_samples) in results.items():\n",
    "    print(f\"Distribution: {distribution}\")\n",
    "    print(f\"Probability of X > {specific_event}: {prob_gt_5:.6f}\")\n",
    "    print(f\"First 10 random samples: {random_samples[:10]}\\n\")"
   ]
  },
  {
   "cell_type": "code",
   "execution_count": null,
   "id": "a1d593d4-44d2-4fd3-b7c4-bec7b314b3f1",
   "metadata": {},
   "outputs": [],
   "source": []
  },
  {
   "cell_type": "code",
   "execution_count": null,
   "id": "5c319115-d80e-4462-aca8-e529537c9569",
   "metadata": {},
   "outputs": [],
   "source": []
  }
 ],
 "metadata": {
  "kernelspec": {
   "display_name": "Python 3 (ipykernel)",
   "language": "python",
   "name": "python3"
  },
  "language_info": {
   "codemirror_mode": {
    "name": "ipython",
    "version": 3
   },
   "file_extension": ".py",
   "mimetype": "text/x-python",
   "name": "python",
   "nbconvert_exporter": "python",
   "pygments_lexer": "ipython3",
   "version": "3.11.4"
  }
 },
 "nbformat": 4,
 "nbformat_minor": 5
}
